{
 "cells": [
  {
   "cell_type": "code",
   "execution_count": 195,
   "metadata": {},
   "outputs": [],
   "source": [
    "import numpy as np\n",
    "import matplotlib.pyplot as plt\n",
    "from scipy import linalg"
   ]
  },
  {
   "cell_type": "code",
   "execution_count": 196,
   "metadata": {},
   "outputs": [],
   "source": [
    "'''Taken from Prof. Zingale's code'''\n",
    "class Grid:\n",
    "    \"\"\" a simple class to hold cell-centered finite-difference  /\n",
    "    finite-volume data \"\"\"\n",
    "\n",
    "    def __init__(self, nx, ng, xmin=0.0, xmax=1.0):\n",
    "\n",
    "        self.xmin = xmin\n",
    "        self.xmax = xmax\n",
    "        self.ng = ng\n",
    "        self.nx = nx\n",
    "        self.ilo = ng\n",
    "        self.ihi = ng+nx-1\n",
    "\n",
    "        self.dx = (xmax - xmin)/(nx)\n",
    "        self.x = xmin + (np.arange(nx+2*ng)-ng+0.5)*self.dx\n",
    "\n",
    "        # storage for the solution\n",
    "        self.phi = np.zeros((nx+2*ng), dtype=np.float64)\n",
    "\n",
    "    def scratch_array(self):\n",
    "        \"\"\" return a scratch array dimensioned for our grid \"\"\"\n",
    "        return np.zeros((self.nx+2*self.ng), dtype=np.float64)\n",
    "\n",
    "    def fill_BCs(self):\n",
    "        \"\"\" fill the ghostcells with zero gradient (Neumann)\n",
    "            boundary conditions \"\"\"\n",
    "        self.phi[0:self.ilo] = self.phi[self.ilo]\n",
    "        self.phi[self.ihi+1:] = self.phi[self.ihi]\n",
    "\n",
    "    def norm(self, e):\n",
    "        \"\"\" return the norm of quantity e which lives on the grid \"\"\"\n",
    "        if not len(e) == (2*self.ng + self.nx):\n",
    "            return None\n",
    "\n",
    "        return np.sqrt(self.dx*np.sum(e[self.ilo:self.ihi+1]**2))"
   ]
  },
  {
   "cell_type": "code",
   "execution_count": 197,
   "metadata": {},
   "outputs": [],
   "source": [
    "def gaussian_ic(g, k, t=0.0, t0=1.e-4, phi1=1.0, phi2=2.0):\n",
    "    xc = 0.5*(g.xmin + g.xmax)\n",
    "    return (phi2 - phi1) * (np.sqrt(t0/(t + t0)) * np.exp(-0.25 * (g.x - xc)**2 / (k * (t + t0)))) + phi1"
   ]
  },
  {
   "cell_type": "code",
   "execution_count": 198,
   "metadata": {},
   "outputs": [],
   "source": [
    "def cn_step(gr, phi, k, dt):\n",
    "    phinew = gr.scratch_array()\n",
    "    alpha = k * dt / gr.dx**2\n",
    "\n",
    "    # create matrix\n",
    "    R = phi[gr.ilo:gr.ihi+1]\n",
    "    d = (1.0 + 2.0*alpha)*np.ones(gr.nx)\n",
    "    u = -alpha*np.ones(gr.nx)\n",
    "    u[0] = 0.0\n",
    "    l = -alpha*np.ones(gr.nx)\n",
    "    l[-1] = 0.0\n",
    "    d[0] = 1.0 + alpha\n",
    "    d[-1] = 1.0 + alpha\n",
    "\n",
    "    A = np.matrix([u, d, l])\n",
    "    phinew[gr.ilo:gr.ihi+1] = linalg.solve_banded((1, 1), A, R)\n",
    "    return phinew\n"
   ]
  },
  {
   "cell_type": "code",
   "execution_count": 199,
   "metadata": {},
   "outputs": [],
   "source": [
    "def diffuse_crank_nicolson(nx, k, C, tmax, init_cond):\n",
    "    ng = 1\n",
    "    g = Grid(nx, ng)\n",
    "    dt = C * g.dx**2 / (2*k)\n",
    "    t = 0.0\n",
    "    g.phi[:] = init_cond(g, k)\n",
    "\n",
    "    while t < tmax:\n",
    "        if t + dt > tmax:\n",
    "            dt = tmax - t\n",
    "        phinew = cn_step(g, g.phi, k, dt)\n",
    "        g.phi[:] = phinew[:]\n",
    "        t += dt\n",
    "    return g"
   ]
  },
  {
   "cell_type": "code",
   "execution_count": 200,
   "metadata": {},
   "outputs": [
    {
     "data": {
      "text/plain": [
       "<matplotlib.legend.Legend at 0x7ff6bec17910>"
      ]
     },
     "execution_count": 200,
     "metadata": {},
     "output_type": "execute_result"
    },
    {
     "data": {
      "image/png": "[encoded data removed]",
      "text/plain": [
       "<Figure size 432x288 with 1 Axes>"
      ]
     },
     "metadata": {
      "needs_background": "light"
     },
     "output_type": "display_data"
    }
   ],
   "source": [
    "nx = 64\n",
    "k = 1\n",
    "t_diffuse = (1.0/nx)**2 / k\n",
    "fig, ax = plt.subplots()\n",
    "tmax = 10 * t_diffuse\n",
    "\n",
    "for C in [0.3, 1.5, 10]:\n",
    "    g = diffuse_crank_nicolson(nx, k, C, tmax, gaussian_ic)\n",
    "    ax.plot(g.x[g.ilo:g.ihi+1], g.phi[g.ilo:g.ihi+1], label=f\"C = {C}\")\n",
    "\n",
    "ax.set_xlabel(\"$x$\")\n",
    "ax.set_ylabel(\"$\\phi$\")\n",
    "\n",
    "ax.set_title(f\"t = {tmax:7.3g}\")\n",
    "ax.legend()"
   ]
  }
 ],
 "metadata": {
  "kernelspec": {
   "display_name": "Python 3",
   "language": "python",
   "name": "python3"
  },
  "language_info": {
   "codemirror_mode": {
    "name": "ipython",
    "version": 3
   },
   "file_extension": ".py",
   "mimetype": "text/x-python",
   "name": "python",
   "nbconvert_exporter": "python",
   "pygments_lexer": "ipython3",
   "version": "3.8.10"
  },
  "orig_nbformat": 4
 },
 "nbformat": 4,
 "nbformat_minor": 2
}
