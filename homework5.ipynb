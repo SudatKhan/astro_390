{
 "cells": [
  {
   "cell_type": "code",
   "execution_count": 13,
   "metadata": {},
   "outputs": [],
   "source": [
    "import numpy as np"
   ]
  },
  {
   "cell_type": "code",
   "execution_count": 14,
   "metadata": {},
   "outputs": [],
   "source": [
    "k_b = 1.38e-16 # Kelvin\n",
    "a = 7.56e-15 # erg cm^-3\n",
    "ion = 1.26\n",
    "electron = 1.15\n",
    "K = 1e13 # erg cm^-3\n",
    "m_H = 1.66053907e-24"
   ]
  },
  {
   "cell_type": "code",
   "execution_count": 15,
   "metadata": {},
   "outputs": [],
   "source": [
    "N_rho = int(input('Enter desired number of points for density: '))\n",
    "N_T = N_rho #Note: N_rho must be equal to N_T, as such the desired number of points for density will automatically equal the desired number of points for temperature\n",
    "rho = np.logspace(np.log10(1), np.log10(1e4), num = N_rho)\n",
    "T = np.logspace(np.log10(1e6), np.log10(1e8), num = N_T)"
   ]
  },
  {
   "cell_type": "code",
   "execution_count": 16,
   "metadata": {},
   "outputs": [],
   "source": [
    "def pressure(rho, T):\n",
    "    return ((k_b * rho * T)/(ion * m_H)) + (1/3) * a * T**4 + K*(rho)**(5/3) * electron**(-5/3)"
   ]
  },
  {
   "cell_type": "code",
   "execution_count": 17,
   "metadata": {},
   "outputs": [
    {
     "name": "stdout",
     "output_type": "stream",
     "text": [
      "This is density: [1.00000000e+00 1.42510267e+00 2.03091762e+00 2.89426612e+00\n",
      " 4.12462638e+00 5.87801607e+00 8.37677640e+00 1.19377664e+01\n",
      " 1.70125428e+01 2.42446202e+01 3.45510729e+01 4.92388263e+01\n",
      " 7.01703829e+01 1.00000000e+02 1.42510267e+02 2.03091762e+02\n",
      " 2.89426612e+02 4.12462638e+02 5.87801607e+02 8.37677640e+02\n",
      " 1.19377664e+03 1.70125428e+03 2.42446202e+03 3.45510729e+03\n",
      " 4.92388263e+03 7.01703829e+03 1.00000000e+04]\n",
      "This is temperature: [1.00000000e+06 1.19377664e+06 1.42510267e+06 1.70125428e+06\n",
      " 2.03091762e+06 2.42446202e+06 2.89426612e+06 3.45510729e+06\n",
      " 4.12462638e+06 4.92388263e+06 5.87801607e+06 7.01703829e+06\n",
      " 8.37677640e+06 1.00000000e+07 1.19377664e+07 1.42510267e+07\n",
      " 1.70125428e+07 2.03091762e+07 2.42446202e+07 2.89426612e+07\n",
      " 3.45510729e+07 4.12462638e+07 4.92388263e+07 5.87801607e+07\n",
      " 7.01703829e+07 8.37677640e+07 1.00000000e+08]\n",
      "This is pressure: [7.38813378e+13 1.26511446e+14 2.16709109e+14 3.71350419e+14\n",
      " 6.36586502e+14 1.09170489e+15 1.87298882e+15 3.21480913e+15\n",
      " 5.52043698e+15 9.48414825e+15 1.63019050e+16 2.80351075e+16\n",
      " 4.82390534e+16 8.30494936e+16 1.43062547e+17 2.46589659e+17\n",
      " 4.25297658e+17 7.33989232e+17 1.26757699e+18 2.19056628e+18\n",
      " 3.78830808e+18 6.55617410e+18 1.13548504e+19 1.96810174e+19\n",
      " 3.41395893e+19 5.92683824e+19 1.02979624e+20]\n"
     ]
    }
   ],
   "source": [
    "print(f'This is density: {rho}')\n",
    "print(f'This is temperature: {T}')\n",
    "print(f'This is pressure: {pressure(rho,T)}')"
   ]
  },
  {
   "cell_type": "code",
   "execution_count": 18,
   "metadata": {},
   "outputs": [
    {
     "name": "stdout",
     "output_type": "stream",
     "text": [
      "(7894.0, 28900000.0)\n",
      "(7017.03828670383, 24244620.170823306)\n",
      "(10000.0, 24244620.170823306)\n",
      "(7017.03828670383, 28942661.247167516)\n",
      "(10000.0, 28942661.247167516)\n"
     ]
    }
   ],
   "source": [
    "rho_0 = float(input('Enter desired density value in g cm^-3: ')) #Value I used was 7894 \n",
    "T_0 = float(input('Enter desired temperature value in K: ')) #Value I used was 28900000\n",
    "\n",
    "rho_i = rho[np.searchsorted(rho,rho_0) - 1]\n",
    "rho_ip1 = rho[np.searchsorted(rho,rho_0)]\n",
    "T_j = T[np.searchsorted(T,T_0) - 1]\n",
    "T_jp1 = T[np.searchsorted(T,T_0)]\n",
    "print(f'({rho_0}, {T_0})')\n",
    "print(f'({rho_i}, {T_j})')\n",
    "print(f'({rho_ip1}, {T_j})')\n",
    "print(f'({rho_i}, {T_jp1})')\n",
    "print(f'({rho_ip1}, {T_jp1})')"
   ]
  },
  {
   "attachments": {},
   "cell_type": "markdown",
   "metadata": {},
   "source": [
    "You can rewrite the solution to a bilinear interpolation problem as a multilinear polynomial:\n",
    "$$P(\\rho, T) \\approx a \\rho T + b T + c \\rho + d$$\n",
    "where the coefficients are found by solving the linear system:\n",
    "$$\\begin{bmatrix}\n",
    "1 & \\rho_1 & T_1 & \\rho_1 T_1 \\\\\n",
    "1 & \\rho_1 & T_2 & \\rho_1 T_2 \\\\\n",
    "1 & \\rho_2 & T_1 & \\rho_2 T_1 \\\\\n",
    "1 & \\rho_2 & T_2 & \\rho_2 T_2  \n",
    "\\end{bmatrix}\n",
    "\\begin{bmatrix} \n",
    "d \\\\\n",
    "c \\\\ \n",
    "b \\\\\n",
    "a\n",
    "\\end{bmatrix} =\n",
    "\\begin{bmatrix}\n",
    "P(\\rho_1, T_1) \\\\\n",
    "P(\\rho_1, T_2) \\\\\n",
    "P(\\rho_2, T_1) \\\\\n",
    "P(\\rho_2, T_2) \\\\\n",
    "\\end{bmatrix}\n",
    "$$"
   ]
  },
  {
   "cell_type": "code",
   "execution_count": 19,
   "metadata": {},
   "outputs": [
    {
     "name": "stdout",
     "output_type": "stream",
     "text": [
      "a = 65956779.640125364, b = 191059762.0255075, c = 5496565561714537.0, d= -1.8198573010017083e+19\n"
     ]
    }
   ],
   "source": [
    "L = np.array([\n",
    "    [1, rho_i, T_j, rho_i*T_j],\n",
    "    [1, rho_i, T_jp1, rho_i*T_jp1],\n",
    "    [1, rho_ip1, T_j, rho_ip1*T_j],\n",
    "    [1, rho_ip1, T_jp1, rho_ip1*T_jp1],\n",
    "])\n",
    "m = np.array([pressure(rho_i, T_j), pressure(rho_i, T_jp1), pressure(rho_ip1, T_j), pressure(rho_ip1, T_jp1)])\n",
    "\n",
    "x = np.linalg.solve(L,m)\n",
    "a1 = x[3]\n",
    "b = x[2]\n",
    "c = x[1]\n",
    "d = x[0]\n",
    "print(f'a = {a1}, b = {b}, c = {c}, d= {d}')"
   ]
  },
  {
   "cell_type": "code",
   "execution_count": 20,
   "metadata": {},
   "outputs": [
    {
     "name": "stdout",
     "output_type": "stream",
     "text": [
      "4.024399261532743e+19\n",
      "P(rho_i, T_j) < P(rho_0, T_0) < P(rho_ip1, T_jp1): \n",
      "3.159659551807755e+19 < 4.024399261532743e+19 < 5.586225968588079e+19\n",
      "Exact Answer: 3.984208779350696e+19\n",
      "Relative Error: 1.0087443808252727%\n"
     ]
    }
   ],
   "source": [
    "def bilinear_interpolation(a1,b,c,d, rho_0, T_0):\n",
    "    return a1*(rho_0)*(T_0) + b*(T_0) + c*(rho_0) + d\n",
    "\n",
    "print(bilinear_interpolation(a1,b,c,d,rho_0,T_0))\n",
    "print(f'P(rho_i, T_j) < P(rho_0, T_0) < P(rho_ip1, T_jp1): ')\n",
    "print(f'{pressure(rho_i,T_j)} < {bilinear_interpolation(a1,b,c,d,rho_0,T_0)} < {pressure(rho_ip1,T_jp1)}')\n",
    "\n",
    "#Relative error from exact answer\n",
    "print(f'Exact Answer: {pressure(rho_0,T_0)}')\n",
    "print(f'Relative Error: {((bilinear_interpolation(a1,b,c,d,rho_0,T_0) - pressure(rho_0,T_0)) / pressure(rho_0,T_0)) * 100}%')"
   ]
  }
 ],
 "metadata": {
  "kernelspec": {
   "display_name": "Python 3",
   "language": "python",
   "name": "python3"
  },
  "language_info": {
   "codemirror_mode": {
    "name": "ipython",
    "version": 3
   },
   "file_extension": ".py",
   "mimetype": "text/x-python",
   "name": "python",
   "nbconvert_exporter": "python",
   "pygments_lexer": "ipython3",
   "version": "3.8.10"
  },
  "orig_nbformat": 4
 },
 "nbformat": 4,
 "nbformat_minor": 2
}
