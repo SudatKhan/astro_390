{
 "cells": [
  {
   "cell_type": "code",
   "execution_count": 139,
   "metadata": {},
   "outputs": [],
   "source": [
    "import numpy as np"
   ]
  },
  {
   "cell_type": "code",
   "execution_count": 140,
   "metadata": {},
   "outputs": [],
   "source": [
    "k_b = 1.38e-16 # Kelvin\n",
    "a = 7.56e-15 # erg cm^-3\n",
    "ion = 1.26\n",
    "electron = 1.15\n",
    "K = 1e13 # erg cm^-3\n",
    "m_H = 1.66053907e-24"
   ]
  },
  {
   "cell_type": "code",
   "execution_count": 141,
   "metadata": {},
   "outputs": [],
   "source": [
    "N_rho = int(input('Enter desired number of points for density: '))\n",
    "N_T = N_rho #Note: N_rho must be equal to N_T, as such the desired number of points for density will automatically equal the desired number of points for temperature\n",
    "rho = np.logspace(np.log10(1), np.log10(1e4), num = N_rho)\n",
    "T = np.logspace(np.log10(1e6), np.log10(1e8), num = N_T)"
   ]
  },
  {
   "cell_type": "code",
   "execution_count": 142,
   "metadata": {},
   "outputs": [],
   "source": [
    "def pressure(rho, T):\n",
    "    return ((k_b * rho * T)/(ion * m_H)) + (1/3) * a * T**4 + K*(rho)**(5/3) * electron**(-5/3)"
   ]
  },
  {
   "cell_type": "code",
   "execution_count": 147,
   "metadata": {},
   "outputs": [
    {
     "name": "stdout",
     "output_type": "stream",
     "text": [
      "This is density: [1.00000000e+00 1.20679264e+00 1.45634848e+00 1.75751062e+00\n",
      " 2.12095089e+00 2.55954792e+00 3.08884360e+00 3.72759372e+00\n",
      " 4.49843267e+00 5.42867544e+00 6.55128557e+00 7.90604321e+00\n",
      " 9.54095476e+00 1.15139540e+01 1.38949549e+01 1.67683294e+01\n",
      " 2.02358965e+01 2.44205309e+01 2.94705170e+01 3.55648031e+01\n",
      " 4.29193426e+01 5.17947468e+01 6.25055193e+01 7.54312006e+01\n",
      " 9.10298178e+01 1.09854114e+02 1.32571137e+02 1.59985872e+02\n",
      " 1.93069773e+02 2.32995181e+02 2.81176870e+02 3.39322177e+02\n",
      " 4.09491506e+02 4.94171336e+02 5.96362332e+02 7.19685673e+02\n",
      " 8.68511374e+02 1.04811313e+03 1.26485522e+03 1.52641797e+03\n",
      " 1.84206997e+03 2.22299648e+03 2.68269580e+03 3.23745754e+03\n",
      " 3.90693994e+03 4.71486636e+03 5.68986603e+03 6.86648845e+03\n",
      " 8.28642773e+03 1.00000000e+04]\n",
      "This is temperature: [1.00000000e+06 1.09854114e+06 1.20679264e+06 1.32571137e+06\n",
      " 1.45634848e+06 1.59985872e+06 1.75751062e+06 1.93069773e+06\n",
      " 2.12095089e+06 2.32995181e+06 2.55954792e+06 2.81176870e+06\n",
      " 3.08884360e+06 3.39322177e+06 3.72759372e+06 4.09491506e+06\n",
      " 4.49843267e+06 4.94171336e+06 5.42867544e+06 5.96362332e+06\n",
      " 6.55128557e+06 7.19685673e+06 7.90604321e+06 8.68511374e+06\n",
      " 9.54095476e+06 1.04811313e+07 1.15139540e+07 1.26485522e+07\n",
      " 1.38949549e+07 1.52641797e+07 1.67683294e+07 1.84206997e+07\n",
      " 2.02358965e+07 2.22299648e+07 2.44205309e+07 2.68269580e+07\n",
      " 2.94705170e+07 3.23745754e+07 3.55648031e+07 3.90693994e+07\n",
      " 4.29193426e+07 4.71486636e+07 5.17947468e+07 5.68986603e+07\n",
      " 6.25055193e+07 6.86648845e+07 7.54312006e+07 8.28642773e+07\n",
      " 9.10298178e+07 1.00000000e+08]\n",
      "This is pressure: [7.38813378e+13 9.82798803e+13 1.30748416e+14 1.73960738e+14\n",
      " 2.31478202e+14 3.08044943e+14 4.09981527e+14 5.45709894e+14\n",
      " 7.26453513e+14 9.67171380e+14 1.28780413e+15 1.71493688e+15\n",
      " 2.28401846e+15 3.04232378e+15 4.05290881e+15 5.39989171e+15\n",
      " 7.19550602e+15 9.58952224e+15 1.27818355e+16 1.70392859e+16\n",
      " 2.27181404e+16 3.02941456e+16 4.04027109e+16 5.38926465e+16\n",
      " 7.18980438e+16 9.59344416e+16 1.28027514e+17 1.70885309e+17\n",
      " 2.28128833e+17 3.04600810e+17 4.06779208e+17 5.43331210e+17\n",
      " 7.25855505e+17 9.69877128e+17 1.29618111e+18 1.73260075e+18\n",
      " 2.31641601e+18 3.09757108e+18 4.14299184e+18 5.54238082e+18\n",
      " 7.41599705e+18 9.92510353e+18 1.32860005e+19 1.77888805e+19\n",
      " 2.38231677e+19 3.19115830e+19 4.27559481e+19 5.72987956e+19\n",
      " 7.68062588e+19 1.02979624e+20]\n"
     ]
    }
   ],
   "source": [
    "print(f'This is density: {rho}')\n",
    "print(f'This is temperature: {T}')\n",
    "print(f'This is pressure: {pressure(rho,T)}')"
   ]
  },
  {
   "cell_type": "code",
   "execution_count": 144,
   "metadata": {},
   "outputs": [
    {
     "name": "stdout",
     "output_type": "stream",
     "text": [
      "(7000.0, 49000000.0)\n",
      "(6866.488450042998, 47148663.6345739)\n",
      "(8286.427728546843, 47148663.6345739)\n",
      "(6866.488450042998, 51794746.79231212)\n",
      "(8286.427728546843, 51794746.79231212)\n"
     ]
    }
   ],
   "source": [
    "rho_0 = float(input('Enter desired density value in g cm^-3: '))\n",
    "T_0 = float(input('Enter desired temperature value in K: '))\n",
    "\n",
    "rho_i = rho[np.searchsorted(rho,rho_0) - 1]\n",
    "rho_ip1 = rho[np.searchsorted(rho,rho_0)]\n",
    "T_j = T[np.searchsorted(T,T_0) - 1]\n",
    "T_jp1 = T[np.searchsorted(T,T_0)]\n",
    "print(f'({rho_0}, {T_0})')\n",
    "print(f'({rho_i}, {T_j})')\n",
    "print(f'({rho_ip1}, {T_j})')\n",
    "print(f'({rho_i}, {T_jp1})')\n",
    "print(f'({rho_ip1}, {T_jp1})')"
   ]
  },
  {
   "attachments": {},
   "cell_type": "markdown",
   "metadata": {},
   "source": [
    "You can rewrite the solution to a bilinear interpolation problem as a multilinear polynomial:\n",
    "$$P(\\rho, T) \\approx a \\rho T + b T + c \\rho + d$$\n",
    "where the coefficients are found by solving the linear system:\n",
    "$$\\begin{bmatrix}\n",
    "1 & \\rho_1 & T_1 & \\rho_1 T_1 \\\\\n",
    "1 & \\rho_1 & T_2 & \\rho_1 T_2 \\\\\n",
    "1 & \\rho_2 & T_1 & \\rho_2 T_1 \\\\\n",
    "1 & \\rho_2 & T_2 & \\rho_2 T_2  \n",
    "\\end{bmatrix}\n",
    "\\begin{bmatrix} \n",
    "d \\\\\n",
    "c \\\\ \n",
    "b \\\\\n",
    "a\n",
    "\\end{bmatrix} =\n",
    "\\begin{bmatrix}\n",
    "P(\\rho_1, T_1) \\\\\n",
    "P(\\rho_1, T_2) \\\\\n",
    "P(\\rho_2, T_1) \\\\\n",
    "P(\\rho_2, T_2) \\\\\n",
    "\\end{bmatrix}\n",
    "$$"
   ]
  },
  {
   "cell_type": "code",
   "execution_count": 145,
   "metadata": {},
   "outputs": [
    {
     "name": "stdout",
     "output_type": "stream",
     "text": [
      "a = 65956779.64012529, b = 1223172529.6704123, c = 5091608928335067.0, d= -1.5355234709799027e+19\n"
     ]
    }
   ],
   "source": [
    "L = np.array([\n",
    "    [1, rho_i, T_j, rho_i*T_j],\n",
    "    [1, rho_i, T_jp1, rho_i*T_jp1],\n",
    "    [1, rho_ip1, T_j, rho_ip1*T_j],\n",
    "    [1, rho_ip1, T_jp1, rho_ip1*T_jp1],\n",
    "])\n",
    "m = np.array([pressure(rho_i, T_j), pressure(rho_i, T_jp1), pressure(rho_ip1, T_j), pressure(rho_ip1, T_jp1)])\n",
    "\n",
    "x = np.linalg.solve(L,m)\n",
    "a1 = x[3]\n",
    "b = x[2]\n",
    "c = x[1]\n",
    "d = x[0]\n",
    "print(f'a = {a1}, b = {b}, c = {c}, d= {d}')"
   ]
  },
  {
   "cell_type": "code",
   "execution_count": 146,
   "metadata": {},
   "outputs": [
    {
     "name": "stdout",
     "output_type": "stream",
     "text": [
      "4.296913865906327e+19\n",
      "4.1017137513506456e+19 < 4.296913865906327e+19 < 5.520758483085274e+19\n",
      "4.293011447294101e+19\n"
     ]
    }
   ],
   "source": [
    "def bilinear_interpolation(a1,b,c,d, rho_0, T_0):\n",
    "    return a1*(rho_0)*(T_0) + b*(T_0) + c*(rho_0) + d\n",
    "print(bilinear_interpolation(a1,b,c,d,rho_0,T_0))\n",
    "print(f'{pressure(rho_i,T_j)} < {bilinear_interpolation(a1,b,c,d,rho_0,T_0)} < {pressure(rho_ip1,T_jp1)}')\n",
    "print(pressure(rho_0,T_0))"
   ]
  }
 ],
 "metadata": {
  "kernelspec": {
   "display_name": "Python 3",
   "language": "python",
   "name": "python3"
  },
  "language_info": {
   "codemirror_mode": {
    "name": "ipython",
    "version": 3
   },
   "file_extension": ".py",
   "mimetype": "text/x-python",
   "name": "python",
   "nbconvert_exporter": "python",
   "pygments_lexer": "ipython3",
   "version": "3.8.10"
  },
  "orig_nbformat": 4
 },
 "nbformat": 4,
 "nbformat_minor": 2
}
