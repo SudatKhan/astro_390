{
 "cells": [
  {
   "cell_type": "code",
   "execution_count": 20,
   "metadata": {},
   "outputs": [],
   "source": [
    "import numpy as np\n",
    "import matplotlib.pyplot as plt\n",
    "from scipy.linalg import *"
   ]
  },
  {
   "cell_type": "code",
   "execution_count": 21,
   "metadata": {},
   "outputs": [],
   "source": [
    "'''Taken from Prof. Zingale's code'''\n",
    "def gauss_elim(H, b, quiet=0):\n",
    "    assert b.ndim == 1, \"ERROR: b should be a vector\"\n",
    "    N = len(b)\n",
    "    # H is square, with each dimension of length N\n",
    "    assert H.shape == (N, N), \"ERROR: H should be square with each dim of same length as b\"\n",
    "    # allocation the solution array\n",
    "    x = np.zeros((N), dtype=H.dtype)\n",
    "    # find the scale factors for each row -- this is used when pivoting\n",
    "    scales = np.max(np.abs(H), 1)\n",
    "    # keep track of the number of times we swapped rows\n",
    "    num_row_swap = 0\n",
    "\n",
    "    # main loop over rows\n",
    "    for k in range(N):\n",
    "        # find the pivot row based on the size of column k -- only consider\n",
    "        # the rows beyond the current row\n",
    "        row_max = np.argmax(H[k:, k]/scales[k:])\n",
    "        if k > 0:\n",
    "            row_max += k  # we sliced H from k:, correct for total rows\n",
    "        # swap the row with the largest scaled element in the current column\n",
    "        # with the current row (pivot) -- do this with b too!\n",
    "        if not row_max == k:\n",
    "            H[[k, row_max], :] = H[[row_max, k], :]\n",
    "            b[[k, row_max]] = b[[row_max, k]]\n",
    "            scales[[k, row_max]] = scales[[row_max, k]]\n",
    "            num_row_swap += 1\n",
    "\n",
    "        # do the forward-elimination for all rows below the current\n",
    "        for i in range(k+1, N):\n",
    "            coeff = H[i, k] / H[k, k]\n",
    "\n",
    "            for j in range(k+1, N):\n",
    "                H[i, j] += -H[k, j] * coeff\n",
    "            H[i, k] = 0.0\n",
    "            b[i] += -coeff * b[k]\n",
    "        \n",
    "            # check if the row is all zeros -- singular\n",
    "            if H[i, :].min() == 0 and H[i, :].max() == 0:\n",
    "                raise ValueError(\"matrix is singular\")\n",
    "    x[N-1] = b[N-1] / H[N-1, N-1]\n",
    "\n",
    "    for i in reversed(range(N-1)):\n",
    "        bsum = b[i]\n",
    "        for j in range(i+1, N):\n",
    "            bsum += -H[i, j] * x[j]\n",
    "        x[i] = bsum / H[i, i]\n",
    "    return x"
   ]
  },
  {
   "cell_type": "code",
   "execution_count": 22,
   "metadata": {},
   "outputs": [
    {
     "name": "stdout",
     "output_type": "stream",
     "text": [
      "b = [1.91666667 1.43333333 1.15       0.96190476]\n"
     ]
    }
   ],
   "source": [
    "''' Solving for vector b given a known matrix H and vector x, H @ x = b'''\n",
    "n = int(input('Enter the matrix size of the Hilbert matrix: ')) #Enter desired size of Hilbert matrix\n",
    "\n",
    "#Define the Hilbert Matrix\n",
    "def hilbert_matrix(n):\n",
    "    return hilbert(n)\n",
    "#Define vector x\n",
    "def vector_x(n):\n",
    "    return np.arange(n)\n",
    "#Define vector b\n",
    "def vector_b(n):\n",
    "    H = hilbert_matrix(n)\n",
    "    x = vector_x(n)\n",
    "    return H @ x\n",
    "\n",
    "ans = vector_b(n)\n",
    "print(\"b =\", ans)"
   ]
  },
  {
   "cell_type": "code",
   "execution_count": 23,
   "metadata": {},
   "outputs": [
    {
     "name": "stdout",
     "output_type": "stream",
     "text": [
      "x = [-2.55351296e-14  1.00000000e+00  2.00000000e+00  3.00000000e+00]\n"
     ]
    }
   ],
   "source": [
    "'''Solving for vector x given the known vector b and matrix H from above, H^-1 b = x'''\n",
    "def sys_sol(n):\n",
    "    H = hilbert(n)\n",
    "    b = vector_b(n)\n",
    "    return gauss_elim(H.copy(), b.copy())\n",
    "\n",
    "print('x =', sys_sol(n))"
   ]
  },
  {
   "cell_type": "code",
   "execution_count": 24,
   "metadata": {},
   "outputs": [
    {
     "name": "stdout",
     "output_type": "stream",
     "text": [
      "N = 2: error = 0.0\n",
      "N = 3: error = 2.220446049250313e-16\n",
      "N = 4: error = 6.707967514785196e-13\n",
      "N = 5: error = 2.589040093425865e-12\n",
      "N = 6: error = 8.535518958296962e-10\n",
      "N = 7: error = 8.078174573711294e-09\n",
      "N = 8: error = 1.9450337074289337e-07\n",
      "N = 9: error = 4.011823577876328e-05\n",
      "N = 10: error = 0.0029059922620078282\n",
      "N = 11: error = 0.009961925189480247\n",
      "N = 12: error = 1.7383413354416284\n",
      "N = 13: error = 32.39530980948649\n",
      "N = 14: error = 47.536035778680706\n",
      "N = 15: error = 32.544442675729286\n"
     ]
    }
   ],
   "source": [
    "def convergence(k):\n",
    "    x = vector_x(k)\n",
    "    x_tilde = sys_sol(k)\n",
    "    return np.max(np.abs(x_tilde - x))\n",
    "\n",
    "for k in range(2,16):\n",
    "    error = convergence(k)\n",
    "    print(f\"N = {k}: error = {error}\")"
   ]
  },
  {
   "attachments": {},
   "cell_type": "markdown",
   "metadata": {},
   "source": [
    "The error becomes $\\mathcal{O}(1)$ at $N = 12$"
   ]
  }
 ],
 "metadata": {
  "kernelspec": {
   "display_name": "Python 3",
   "language": "python",
   "name": "python3"
  },
  "language_info": {
   "codemirror_mode": {
    "name": "ipython",
    "version": 3
   },
   "file_extension": ".py",
   "mimetype": "text/x-python",
   "name": "python",
   "nbconvert_exporter": "python",
   "pygments_lexer": "ipython3",
   "version": "3.8.10"
  },
  "orig_nbformat": 4,
  "vscode": {
   "interpreter": {
    "hash": "916dbcbb3f70747c44a77c7bcd40155683ae19c65e1c03b4aa3499c5328201f1"
   }
  }
 },
 "nbformat": 4,
 "nbformat_minor": 2
}
