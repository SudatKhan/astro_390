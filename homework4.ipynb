{
 "cells": [
  {
   "cell_type": "code",
   "execution_count": 103,
   "metadata": {},
   "outputs": [],
   "source": [
    "import numpy as np\n",
    "import matplotlib.pyplot as plt\n",
    "from scipy.linalg import *"
   ]
  },
  {
   "cell_type": "code",
   "execution_count": 104,
   "metadata": {},
   "outputs": [],
   "source": [
    "'''Taken from Prof. Zingale's code'''\n",
    "def gauss_elim(H, b, quiet=0):\n",
    "    assert b.ndim == 1, \"ERROR: b should be a vector\"\n",
    "    N = len(b)\n",
    "    # H is square, with each dimension of length N\n",
    "    assert H.shape == (N, N), \"ERROR: H should be square with each dim of same length as b\"\n",
    "    # allocation the solution array\n",
    "    x = np.zeros((N), dtype=H.dtype)\n",
    "    # find the scale factors for each row -- this is used when pivoting\n",
    "    scales = np.max(np.abs(H), 1)\n",
    "    # keep track of the number of times we swapped rows\n",
    "    num_row_swap = 0\n",
    "\n",
    "    # main loop over rows\n",
    "    for k in range(N):\n",
    "        # find the pivot row based on the size of column k -- only consider\n",
    "        # the rows beyond the current row\n",
    "        row_max = np.argmax(H[k:, k]/scales[k:])\n",
    "        if k > 0:\n",
    "            row_max += k  # we sliced H from k:, correct for total rows\n",
    "        # swap the row with the largest scaled element in the current column\n",
    "        # with the current row (pivot) -- do this with b too!\n",
    "        if not row_max == k:\n",
    "            H[[k, row_max], :] = H[[row_max, k], :]\n",
    "            b[[k, row_max]] = b[[row_max, k]]\n",
    "            scales[[k, row_max]] = scales[[row_max, k]]\n",
    "            num_row_swap += 1\n",
    "\n",
    "        # do the forward-elimination for all rows below the current\n",
    "        for i in range(k+1, N):\n",
    "            coeff = H[i, k] / H[k, k]\n",
    "\n",
    "            for j in range(k+1, N):\n",
    "                H[i, j] += -H[k, j] * coeff\n",
    "            H[i, k] = 0.0\n",
    "            b[i] += -coeff * b[k]\n",
    "        \n",
    "            # check if the row is all zeros -- singular\n",
    "            if H[i, :].min() == 0 and H[i, :].max() == 0:\n",
    "                raise ValueError(\"matrix is singular\")\n",
    "    x[N-1] = b[N-1] / H[N-1, N-1]\n",
    "\n",
    "    for i in reversed(range(N-1)):\n",
    "        bsum = b[i]\n",
    "        for j in range(i+1, N):\n",
    "            bsum += -H[i, j] * x[j]\n",
    "        x[i] = bsum / H[i, i]\n",
    "    return x"
   ]
  },
  {
   "cell_type": "code",
   "execution_count": 105,
   "metadata": {},
   "outputs": [
    {
     "name": "stdout",
     "output_type": "stream",
     "text": [
      "b = [99.76406964 96.50927135 93.73586965 91.27745582 89.05094822 87.00659241\n",
      " 85.11129475 83.34147971 81.67951866 80.11174588 78.62726829 77.21720804\n",
      " 75.8741976  74.59203027 73.36541059 72.18977129 71.06113613 69.97601492\n",
      " 68.93132198 67.92431176 66.95252735 66.01375881 65.10600913 64.22746604\n",
      " 63.37647868 62.55153783 61.75125933 60.97436995 60.21969519 59.48614891\n",
      " 58.77272425 58.07848575 57.40256252 56.74414214 56.10246541 55.47682157\n",
      " 54.86654415 54.27100728 53.6896223  53.12183484 52.56712209 52.02499042\n",
      " 51.49497319 50.97662875 50.46953871 49.97330624 49.48755462 49.01192588\n",
      " 48.54607956 48.08969158 47.64245315 47.20406988 46.77426084 46.35275776\n",
      " 45.93930428 45.53365527 45.13557613 44.74484225 44.36123841 43.98455828\n",
      " 43.61460395 43.25118545 42.89412035 42.54323337 42.19835601 41.85932619\n",
      " 41.52598797 41.19819119 40.87579125 40.55864879 40.24662949 39.93960378\n",
      " 39.63744668 39.34003753 39.04725984 38.75900108 38.47515252 38.19560905\n",
      " 37.92026902 37.64903412 37.38180921 37.1185022  36.85902391 36.60328797\n",
      " 36.35121071 36.10271103 35.85771028 35.61613224 35.37790294 35.14295061\n",
      " 34.91120562 34.68260034 34.45706913 34.2345482  34.01497561 33.79829115\n",
      " 33.58443628 33.37335412 33.16498933 32.95928809 32.75619805 32.55566824\n",
      " 32.35764907 32.16209227 31.96895081]\n"
     ]
    }
   ],
   "source": [
    "''' Solving for vector b given a known matrix H and vector x, H @ x = b'''\n",
    "n = int(input('Enter the matrix size of the Hilbert matrix: ')) #Enter desired size of Hilbert matrix\n",
    "\n",
    "#Define the Hilbert Matrix\n",
    "def hilbert_matrix(n):\n",
    "    return hilbert(n)\n",
    "#Define vector x\n",
    "def vector_x(n):\n",
    "    return np.arange(n)\n",
    "#Define vector b\n",
    "def vector_b(n):\n",
    "    H = hilbert_matrix(n)\n",
    "    x = vector_x(n)\n",
    "    return H @ x\n",
    "\n",
    "ans = vector_b(n)\n",
    "print(f'b = {ans}')"
   ]
  },
  {
   "cell_type": "code",
   "execution_count": 106,
   "metadata": {},
   "outputs": [
    {
     "name": "stdout",
     "output_type": "stream",
     "text": [
      "x = [ 7.82724392e-06  9.97188469e-01  2.16708142e+00 -7.06879726e-01\n",
      "  4.43351620e+01 -2.36084905e+02  8.14624634e+02 -1.35052338e+03\n",
      "  3.08792697e+02  2.59026192e+03 -2.97374811e+03 -1.25287041e+03\n",
      "  3.56957276e+03 -9.41922475e+02 -6.16710995e+02 -1.12799576e+02\n",
      "  2.13580058e+03 -1.90475818e+03 -2.85463445e+03  1.14243597e+03\n",
      "  2.64201612e+03  7.31959739e+02  6.08722948e+01  1.67903651e+03\n",
      " -2.19717814e+03 -4.14736411e+03  2.01314505e+03 -4.47790424e+02\n",
      " -3.46032308e+03  5.88722505e+03  2.09260017e+03 -1.15175620e+03\n",
      "  1.44730077e+03 -4.59048388e+02 -4.53581856e+03  4.32472614e+03\n",
      " -1.56520444e+03 -1.42921083e+03 -1.66374476e+03  1.94576100e+03\n",
      " -2.68800071e+02 -1.97291436e+02 -3.59653330e+03  9.79789466e+02\n",
      "  1.94306583e+03  5.20878327e+03  3.43563331e+03 -6.87426442e+03\n",
      "  4.41947611e+03  3.67248993e+03 -7.31309943e+02 -8.76716435e+03\n",
      " -1.80633064e+03  1.59451425e+02  1.43022595e+03  3.89956991e+03\n",
      " -3.97338815e+03 -1.85327526e+03  3.94999852e+03 -4.28811242e+03\n",
      " -1.15906355e+03  3.16285967e+03  4.70031178e+02 -2.44636888e+02\n",
      "  6.02377208e+03  4.96616586e+03  2.05259454e+03 -2.76179425e+03\n",
      "  1.12558012e+03 -3.26089378e+03 -3.83316450e+03  1.17547136e+02\n",
      " -2.36020094e+03 -7.60205236e+02 -2.61015412e+03 -3.56278431e+03\n",
      "  2.92518828e+03  2.60646604e+03 -1.41347227e+02  4.94883531e+03\n",
      " -5.76400983e+03  1.70207219e+03  1.85221382e+03 -2.55811125e+03\n",
      "  2.33300065e+03  8.81288302e+03 -1.73924410e+03  2.76891142e+03\n",
      "  5.87180119e+02 -6.04006992e+03  9.44760369e+02 -1.26215495e+03\n",
      " -6.36931346e+03 -7.04913085e+02  9.65275201e+02  5.34959629e+02\n",
      "  5.18772696e+03 -1.90881660e+03 -2.50607391e+03  1.36166917e+03\n",
      "  4.53119150e+03  1.23844659e+03 -5.44995235e+03  4.85473233e+03\n",
      " -2.49060527e+03]\n"
     ]
    }
   ],
   "source": [
    "'''Solving for vector x given the known vector b and matrix H from above, H^-1 b = x'''\n",
    "def sys_sol(n):\n",
    "    H = hilbert(n)\n",
    "    b = vector_b(n)\n",
    "    return gauss_elim(H.copy(), b.copy())\n",
    "\n",
    "print(f'x = {sys_sol(n)}')"
   ]
  },
  {
   "cell_type": "code",
   "execution_count": 107,
   "metadata": {},
   "outputs": [
    {
     "name": "stdout",
     "output_type": "stream",
     "text": [
      "N = 2: error = 0.0\n",
      "N = 3: error = 2.220446049250313e-16\n",
      "N = 4: error = 6.707967514785196e-13\n",
      "N = 5: error = 2.589040093425865e-12\n",
      "N = 6: error = 8.535518958296962e-10\n",
      "N = 7: error = 8.078174573711294e-09\n",
      "N = 8: error = 1.9450337074289337e-07\n",
      "N = 9: error = 4.011823577876328e-05\n",
      "N = 10: error = 0.0029059922620078282\n",
      "N = 11: error = 0.009961925189480247\n",
      "N = 12: error = 1.7383413354416284\n",
      "N = 13: error = 32.39530980948649\n",
      "N = 14: error = 47.536035778680706\n",
      "N = 15: error = 32.544442675729286\n"
     ]
    }
   ],
   "source": [
    "#Finding error propagation\n",
    "for k in range(2,16):\n",
    "    error = np.max(np.abs(sys_sol(k) - vector_x(k)))\n",
    "    print(f'N = {k}: error = {error}')"
   ]
  },
  {
   "attachments": {},
   "cell_type": "markdown",
   "metadata": {},
   "source": [
    "The error becomes $\\mathcal{O}(1)$ at $N = 12$"
   ]
  },
  {
   "cell_type": "code",
   "execution_count": 108,
   "metadata": {},
   "outputs": [],
   "source": [
    "data = np.loadtxt('signal.txt')\n",
    "x = data[:, 0]\n",
    "f_original = data[:,1]\n",
    "f_noisy = data[:, 2]\n",
    "sigma = float(input('Enter desired Gaussian width: ')) #Please only enter integer values\n",
    "\n",
    "def gaussian(n): #original kernel function\n",
    "    return (1.0 / (sigma * np.sqrt(2 * np.pi))) * np.exp(-0.5 * n**2 * sigma**2)\n",
    "\n",
    "freq = np.fft.fftfreq(len(x), d= x[1]-x[0]) #Return the FFT sample frequencies\n",
    "\n",
    "kernel = gaussian(freq)\n",
    "kernel = kernel / np.sum(kernel)"
   ]
  },
  {
   "cell_type": "code",
   "execution_count": 109,
   "metadata": {},
   "outputs": [
    {
     "data": {
      "text/plain": [
       "<matplotlib.legend.Legend at 0x7f445f4f85b0>"
      ]
     },
     "execution_count": 109,
     "metadata": {},
     "output_type": "execute_result"
    },
    {
     "data": {
      "image/png": "[encoded data removed]",
      "text/plain": [
       "<Figure size 432x288 with 1 Axes>"
      ]
     },
     "metadata": {
      "needs_background": "light"
     },
     "output_type": "display_data"
    }
   ],
   "source": [
    "#Plot the noisy function along with the kernel vs. x\n",
    "plt.plot(x, f_noisy, label='Noisy Function')\n",
    "plt.plot(x, kernel, label='Kernel')\n",
    "plt.legend()"
   ]
  },
  {
   "cell_type": "code",
   "execution_count": 110,
   "metadata": {},
   "outputs": [
    {
     "data": {
      "text/plain": [
       "<matplotlib.legend.Legend at 0x7f445f4e9b20>"
      ]
     },
     "execution_count": 110,
     "metadata": {},
     "output_type": "execute_result"
    },
    {
     "data": {
      "image/png": "[encoded data removed]",
      "text/plain": [
       "<Figure size 432x288 with 1 Axes>"
      ]
     },
     "metadata": {
      "needs_background": "light"
     },
     "output_type": "display_data"
    }
   ],
   "source": [
    "#Plot FFT of noisy function along with FFT of kernel vs. x\n",
    "fourier_noisy= (np.fft.fft(f_noisy))\n",
    "fourier_kernel = (np.fft.fft(kernel))\n",
    "plt.plot(x, np.real(fourier_noisy), label = 'FFT of Noisy Function')\n",
    "plt.plot(x, np.real(fourier_kernel), label = 'FFT of Kernel')\n",
    "plt.legend()"
   ]
  },
  {
   "cell_type": "code",
   "execution_count": 111,
   "metadata": {},
   "outputs": [
    {
     "data": {
      "text/plain": [
       "<matplotlib.legend.Legend at 0x7f445f6846d0>"
      ]
     },
     "execution_count": 111,
     "metadata": {},
     "output_type": "execute_result"
    },
    {
     "data": {
      "image/png": "[encoded data removed]",
      "text/plain": [
       "<Figure size 432x288 with 1 Axes>"
      ]
     },
     "metadata": {
      "needs_background": "light"
     },
     "output_type": "display_data"
    }
   ],
   "source": [
    "#Find the convolution (called de-noised) and plot convolution along with original function vs. x\n",
    "fourier_multi= fourier_kernel * fourier_noisy\n",
    "convolution = np.real((np.fft.ifft(fourier_multi))) # inverse FFT\n",
    "plt.plot(x, convolution, label = 'De-Noised Function (Convolution)')\n",
    "plt.plot(x, f_original, label = 'Original Function')\n",
    "plt.legend()"
   ]
  }
 ],
 "metadata": {
  "kernelspec": {
   "display_name": "Python 3",
   "language": "python",
   "name": "python3"
  },
  "language_info": {
   "codemirror_mode": {
    "name": "ipython",
    "version": 3
   },
   "file_extension": ".py",
   "mimetype": "text/x-python",
   "name": "python",
   "nbconvert_exporter": "python",
   "pygments_lexer": "ipython3",
   "version": "3.8.10"
  },
  "orig_nbformat": 4,
  "vscode": {
   "interpreter": {
    "hash": "916dbcbb3f70747c44a77c7bcd40155683ae19c65e1c03b4aa3499c5328201f1"
   }
  }
 },
 "nbformat": 4,
 "nbformat_minor": 2
}
