{
 "cells": [
  {
   "cell_type": "code",
   "execution_count": 94,
   "metadata": {},
   "outputs": [],
   "source": [
    "import numpy as np\n",
    "import matplotlib.pyplot as plt"
   ]
  },
  {
   "cell_type": "code",
   "execution_count": 95,
   "metadata": {},
   "outputs": [],
   "source": [
    "'''First-Order Upwinding'''\n",
    "# Define the parameters\n",
    "nx = 100  # number of grid points\n",
    "dx = 2 / (nx - 1)  # distance between two consecutive grid points\n",
    "nt = 50  # number of time steps\n",
    "dt = 1e-2  # time interval\n",
    "c = 1.25  # constant\n",
    "\n",
    "# Define the initial conditions\n",
    "u = np.ones(nx)\n",
    "u[:int(0.5 / dx)] = 2\n",
    "\n",
    "# Define the outflow boundary conditions\n",
    "def boundary_conditions(u):\n",
    "    # outflow boundary condition\n",
    "    u[0] = u[1]\n",
    "    u[-1] = u[-2]\n",
    "    return u\n",
    "\n",
    "# Solve the equation using first-order upwinding\n",
    "for n in range(nt):\n",
    "    un = u.copy()\n",
    "    for i in range(1, nx):\n",
    "        u[i] = un[i] - c * dt / dx * (un[i] - un[i-1])\n",
    "    u = boundary_conditions(u)"
   ]
  },
  {
   "cell_type": "code",
   "execution_count": 96,
   "metadata": {},
   "outputs": [
    {
     "data": {
      "image/png": "[encoded data removed]",
      "text/plain": [
       "<Figure size 432x288 with 1 Axes>"
      ]
     },
     "metadata": {
      "needs_background": "light"
     },
     "output_type": "display_data"
    }
   ],
   "source": [
    "'''Plotting First-Order Upwinding'''\n",
    "plt.plot(np.linspace(0, 2, nx), u)\n",
    "plt.xlabel(r'$x$')\n",
    "plt.ylabel(r'$u$')\n",
    "plt.title(f\"Burgers' equation using first-order upwinding with outflow boundary conditions\")\n",
    "plt.show()"
   ]
  },
  {
   "cell_type": "code",
   "execution_count": 97,
   "metadata": {},
   "outputs": [
    {
     "name": "stdout",
     "output_type": "stream",
     "text": [
      "Shock positions: [27.5, 28.5, 29.5, 30.5, 31.5, 32.5, 33.5, 34.5, 35.5, 36.5, 37.5, 38.5, 39.5, 40.5, 41.5, 42.5, 43.5, 44.5, 45.5, 46.5, 47.5, 48.5, 49.5, 50.5, 51.5, 52.5, 53.5, 54.5, 55.5, 56.5, 57.5, 58.5, 59.5, 60.5, 61.5, 62.5, 63.5, 64.5, 65.5, 66.5, 67.5, 68.5, 69.5, 70.5, 71.5, 72.5, 73.5]\n",
      "Shock speeds: [100.0, 100.0, 100.0, 100.0, 100.0, 100.0, 100.0, 100.0, 100.0, 100.0, 100.0, 100.0, 100.0, 100.0, 100.0, 100.0, 100.0, 100.0, 100.0, 100.0, 100.0, 100.0, 100.0, 100.0, 100.0, 100.0, 100.0, 100.0, 100.0, 100.0, 100.0, 100.0, 100.0, 100.0, 100.0, 100.0, 100.0, 100.0, 100.0, 100.0, 100.0, 100.0, 100.0, 100.0, 100.0, 100.0]\n"
     ]
    }
   ],
   "source": [
    "# Find the position of the shock at each time step\n",
    "shock_pos = []\n",
    "for i in range(nx-1):\n",
    "    if u[i+1] < u[i]:\n",
    "        shock_pos.append(i+0.5)\n",
    "print(f'Shock positions: {shock_pos}')\n",
    "\n",
    "# Calculate the speed of the shock\n",
    "shock_speed = []\n",
    "for i in range(len(shock_pos)-1):\n",
    "    shock_speed.append((shock_pos[i+1] - shock_pos[i]) / dt)\n",
    "print(f'Shock speeds: {shock_speed}')"
   ]
  },
  {
   "cell_type": "code",
   "execution_count": 101,
   "metadata": {},
   "outputs": [],
   "source": [
    "'''Conservative Formulation'''\n",
    "# Define the parameters\n",
    "nx = 100  # number of grid points\n",
    "dx = 2 / (nx - 1)  # distance between two consecutive grid points\n",
    "nt = 50  # number of time steps\n",
    "dt = 1e-2  # time interval\n",
    "c = 1.25  # constant\n",
    "\n",
    "# Define the initial conditions\n",
    "u = np.ones(nx)\n",
    "u[:int(0.5 / dx)] = 2\n",
    "\n",
    "# Define the outflow boundary conditions\n",
    "def boundary_conditions(u):\n",
    "    u[0] = u[1]\n",
    "    u[-1] = u[-2]\n",
    "    return u\n",
    "\n",
    "# Define the flux function\n",
    "def flux(u):\n",
    "    return 0.5 * u**2\n",
    "\n",
    "# Solve the equation\n",
    "for n in range(nt):\n",
    "    un = u.copy()\n",
    "    for i in range(1, nx):\n",
    "        u[i] = un[i] - dt / dx * (flux(un[i]) - flux(un[i-1]))\n",
    "    u = boundary_conditions(u)"
   ]
  },
  {
   "cell_type": "code",
   "execution_count": 99,
   "metadata": {},
   "outputs": [
    {
     "data": {
      "image/png": "[encoded data removed]",
      "text/plain": [
       "<Figure size 432x288 with 1 Axes>"
      ]
     },
     "metadata": {
      "needs_background": "light"
     },
     "output_type": "display_data"
    }
   ],
   "source": [
    "'''Plotting Conservative Formulation'''\n",
    "plt.plot(np.linspace(0, 2, nx), u)\n",
    "plt.xlabel(r'$x$')\n",
    "plt.ylabel(r'$u$')\n",
    "plt.title(f\"Burgers' equation with outflow boundary conditions (conservative form)\")\n",
    "plt.show()"
   ]
  },
  {
   "cell_type": "code",
   "execution_count": 100,
   "metadata": {},
   "outputs": [
    {
     "name": "stdout",
     "output_type": "stream",
     "text": [
      "Shock positions: [53.5, 54.5, 55.5, 56.5, 57.5, 58.5, 59.5, 60.5, 61.5, 62.5, 63.5, 64.5, 65.5, 66.5, 67.5, 68.5, 69.5, 70.5, 71.5, 72.5, 73.5]\n",
      "Shock speeds: [100.0, 100.0, 100.0, 100.0, 100.0, 100.0, 100.0, 100.0, 100.0, 100.0, 100.0, 100.0, 100.0, 100.0, 100.0, 100.0, 100.0, 100.0, 100.0, 100.0]\n"
     ]
    }
   ],
   "source": [
    "# Find the position of the shock at each time step\n",
    "shock_pos = []\n",
    "for i in range(nx-1):\n",
    "    if u[i+1] < u[i]:\n",
    "        shock_pos.append(i+0.5)\n",
    "print(f'Shock positions: {shock_pos}')\n",
    "\n",
    "# Calculate the speed of the shock\n",
    "shock_speed = []\n",
    "for i in range(len(shock_pos)-1):\n",
    "    shock_speed.append((shock_pos[i+1] - shock_pos[i]) / dt)\n",
    "print(f'Shock speeds: {shock_speed}')"
   ]
  }
 ],
 "metadata": {
  "kernelspec": {
   "display_name": "base",
   "language": "python",
   "name": "python3"
  },
  "language_info": {
   "codemirror_mode": {
    "name": "ipython",
    "version": 3
   },
   "file_extension": ".py",
   "mimetype": "text/x-python",
   "name": "python",
   "nbconvert_exporter": "python",
   "pygments_lexer": "ipython3",
   "version": "3.8.10"
  },
  "orig_nbformat": 4
 },
 "nbformat": 4,
 "nbformat_minor": 2
}
