{
 "cells": [
  {
   "cell_type": "code",
   "execution_count": 142,
   "metadata": {},
   "outputs": [],
   "source": [
    "import numpy as np\n",
    "import matplotlib.pyplot as plt"
   ]
  },
  {
   "cell_type": "code",
   "execution_count": 143,
   "metadata": {},
   "outputs": [],
   "source": [
    "# Define the initial conditions\n",
    "nx = 128\n",
    "dx = 2 / (nx - 1)\n",
    "nt = 64\n",
    "CFL = 0.1\n",
    "dt = CFL * dx"
   ]
  },
  {
   "cell_type": "code",
   "execution_count": 144,
   "metadata": {},
   "outputs": [],
   "source": [
    "# Define the conservative form of Burgers' equation\n",
    "def burgers_con(u, dx, dt):\n",
    "    un = u.copy()\n",
    "    u[1:-1] = un[1:-1] - (dt / (2 * dx)) * un[1:-1] * (un[1:-1] - un[:-2])\n",
    "    return u"
   ]
  },
  {
   "cell_type": "code",
   "execution_count": 145,
   "metadata": {},
   "outputs": [],
   "source": [
    "# Define the non-conservative form of Burgers' equation\n",
    "def burgers_noncon(u, dx, dt):\n",
    "    un = u.copy()\n",
    "    u[1:-1] = un[1:-1] - un[1:-1] * (dt / dx) * (un[1:-1] - un[:-2])\n",
    "    return u"
   ]
  },
  {
   "cell_type": "code",
   "execution_count": 146,
   "metadata": {},
   "outputs": [],
   "source": [
    "#Initial Conditions\n",
    "u = np.ones(nx)\n",
    "u[:int(0.5 / dx)] = 2\n",
    "\n",
    "# Solve the conservative form of Burgers' equation\n",
    "u_con = u.copy()\n",
    "for n in range(nt):\n",
    "    u_con = burgers_con(u_con, dx, dt)"
   ]
  },
  {
   "cell_type": "code",
   "execution_count": 147,
   "metadata": {},
   "outputs": [],
   "source": [
    "# Solve the non-conservative form of Burgers' equation\n",
    "u_noncon = u.copy()\n",
    "for n in range(nt):\n",
    "    u_noncon = burgers_noncon(u_noncon, dx, dt)"
   ]
  },
  {
   "cell_type": "code",
   "execution_count": 148,
   "metadata": {},
   "outputs": [],
   "source": [
    "# Measure the shock speed\n",
    "x = np.linspace(0, 2, nx)\n",
    "t = nt * dt \n",
    "#for i in range(len(u_con)):\n",
    "#    if (u_con[i] > 1 and u_con[i] < 2):\n",
    "#        print(i)'''\n",
    "\n",
    "#for i in range(len(u_noncon)):\n",
    "#    if (u_noncon[i] > 1 and u_noncon[i] < 2):\n",
    "#        print(i)\n",
    "shock_speed_con = (u_con[31] - u_con[54]) / t\n",
    "shock_speed_noncon = (u_noncon[31] - u_noncon[62]) / t"
   ]
  },
  {
   "cell_type": "code",
   "execution_count": 149,
   "metadata": {},
   "outputs": [
    {
     "data": {
      "image/png": "[encoded data removed]",
      "text/plain": [
       "<Figure size 432x288 with 1 Axes>"
      ]
     },
     "metadata": {
      "needs_background": "light"
     },
     "output_type": "display_data"
    },
    {
     "name": "stdout",
     "output_type": "stream",
     "text": [
      "Shock speed using conservative form: 9.896671487441761\n",
      "Shock speed using non-conservative form: 9.921860275621752\n"
     ]
    }
   ],
   "source": [
    "# Plot the results\n",
    "plt.plot(x, u_con, label='Conservative Form')\n",
    "plt.plot(x, u_noncon, label='Non-Conservative Form')\n",
    "plt.xlabel('x')\n",
    "plt.ylabel('u')\n",
    "plt.title(f\"Burgers' Equation with Shock Initial Conditions\")\n",
    "plt.legend()\n",
    "plt.show()\n",
    "\n",
    "print(f\"Shock speed using conservative form: {shock_speed_con}\")\n",
    "print(f\"Shock speed using non-conservative form: {shock_speed_noncon}\")\n"
   ]
  }
 ],
 "metadata": {
  "kernelspec": {
   "display_name": "base",
   "language": "python",
   "name": "python3"
  },
  "language_info": {
   "codemirror_mode": {
    "name": "ipython",
    "version": 3
   },
   "file_extension": ".py",
   "mimetype": "text/x-python",
   "name": "python",
   "nbconvert_exporter": "python",
   "pygments_lexer": "ipython3",
   "version": "3.8.10"
  },
  "orig_nbformat": 4
 },
 "nbformat": 4,
 "nbformat_minor": 2
}
