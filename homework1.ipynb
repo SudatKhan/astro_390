{
 "cells": [
  {
   "cell_type": "code",
   "execution_count": 90,
   "metadata": {},
   "outputs": [],
   "source": [
    "import numpy as np\n",
    "import matplotlib.pyplot as plt"
   ]
  },
  {
   "cell_type": "code",
   "execution_count": 93,
   "metadata": {},
   "outputs": [
    {
     "name": "stdout",
     "output_type": "stream",
     "text": [
      "left = 0.999968746424007, right = 0.9999391380734948, center = 0.9999539422487509\n",
      "exact = 0.9999555871089498\n"
     ]
    }
   ],
   "source": [
    "#First derivative approximation\n",
    "x = np.linspace(0, np.pi, 1000, endpoint=False)\n",
    "f = np.sin(x)\n",
    "\n",
    "def left_diff(x, f, i):\n",
    "    return (f[i] - f[i-1]) / (x[i] - x[i-1])\n",
    "def right_diff(x,f,i):\n",
    "    return (f[i+1] - f[i]) / (x[i+1] - x[i])\n",
    "def centered_diff(x,f,i):\n",
    "    return (f[i+1] - f[i-1]) / (x[i+1] - x[i-1])\n",
    "\n",
    "value = 3\n",
    "\n",
    "dl = left_diff(x,f,value)\n",
    "dr = right_diff(x,f,value)\n",
    "dc = centered_diff(x,f,value)\n",
    "exact = np.cos(x[value])\n",
    "\n",
    "print(f\"left = {dl}, right = {dr}, center = {dc}\")\n",
    "print(f\"exact = {exact}\")"
   ]
  },
  {
   "attachments": {},
   "cell_type": "markdown",
   "metadata": {},
   "source": [
    "For a second-derivative approximation we can taylor expand the expression $f(x + h)$\n",
    "$$f(x \\pm h) = f(x) \\pm h\\frac{df}{dx}|_{i} + \\frac{h^2}{2}\\frac{d^2f}{dx^2}|_{i} \\pm \\mathcal{O}(h^3)$$\n",
    "Right Derivative Approximation:\n",
    "$$\\frac{d^2f}{dx^2}|{i} = \\frac{2f(x) - 5f(x + h) + 4f(x+2h) - f(x+3h)}{h^3} + \\mathcal{O}(h^2)$$\n",
    "Left Derivative Approximation:\n",
    "$$\\frac{d^2f}{dx^2}|_{i} = \\frac{2f(x) - 5f(x-h) + 4f(x-2h) - f(x-3h)}{h^3} + \\mathcal{O}(h^2)$$\n",
    "As such, we can find the difference between $f(i+1)$ and $f(i-1)$ terms to find centered second-order approximation of the second derivative of a function.\n",
    "$$\\frac{d^2f}{dx^2}|_{i} =\\frac{f(x+h) - 2f(x) + f(x-h)}{h^2} + \\mathcal{O}(h^2)$$"
   ]
  },
  {
   "cell_type": "code",
   "execution_count": 92,
   "metadata": {},
   "outputs": [
    {
     "name": "stdout",
     "output_type": "stream",
     "text": [
      "centered = -0.009424630681542716\n",
      "exact = -0.009424638433144006\n",
      "relative error = 8.224826177321296e-05%\n"
     ]
    }
   ],
   "source": [
    "#Second Derivative Approximation\n",
    "def centered_diff2(x,f,i):\n",
    "    return (f[i+1] - 2*f[i] + f[i-1]) / (((x[i+1] - x[i-1]) / 2)**2)\n",
    "\n",
    "dc2 = centered_diff2(x,f,value)\n",
    "exact2 = -1*np.sin(x[value])\n",
    "error = (abs(dc2 - exact2) / abs(exact2)) * 100\n",
    "\n",
    "print(f\"centered = {dc2}\")\n",
    "print(f\"exact = {exact2}\")\n",
    "print(f\"relative error = {error}%\")"
   ]
  },
  {
   "cell_type": "code",
   "execution_count": 102,
   "metadata": {},
   "outputs": [
    {
     "name": "stdout",
     "output_type": "stream",
     "text": [
      "0.1 : 0.30046768681927805\n",
      "0.05 : 0.30099338709277956\n",
      "0.025 : 0.3011248532390155\n",
      "0.0125 : 0.3011577223434315\n",
      "0.00625 : 0.30116593977656547\n",
      "0.003125 : 0.30116799415172435\n",
      "0.0015625 : 0.30116850774338244\n",
      "0.00078125 : 0.30116863616403433\n",
      "0.000390625 : 0.30116866781444995\n",
      "0.0001953125 : 0.3011686765455991\n",
      "9.765625e-05 : 0.3011686765455991\n",
      "4.8828125e-05 : 0.3011686881871313\n",
      "2.44140625e-05 : 0.3011686881871313\n",
      "1.220703125e-05 : 0.30116850192261635\n"
     ]
    }
   ],
   "source": [
    "#Convergence Test\n",
    "def second_derivative(x0, f, h):\n",
    "    return (f(x0 + h) - 2*f(x0) + f(x0-h)) / ((h)**2)\n",
    "def func(x):\n",
    "    return np.sin(x)\n",
    "def functionp(x):\n",
    "    return (-1*np.cos(x))\n",
    "\n",
    "h = 0.1\n",
    "x0 = 1.0\n",
    "while h > 1.0e-5:\n",
    "    err = np.abs(second_derivative(x0, func, h) - functionp(x0))\n",
    "    print(f\"{h} : {err}\")\n",
    "    h /=2"
   ]
  },
  {
   "attachments": {},
   "cell_type": "markdown",
   "metadata": {},
   "source": [
    "Consider the function\n",
    "$$f(x) = \\sqrt{x^2 + 1} - 1$$\n",
    "In the limit of $x \\rightarrow 0$, the expression is:\n",
    "$$f(x) \\approx \\frac{1}{2}x^2$$"
   ]
  },
  {
   "cell_type": "code",
   "execution_count": null,
   "metadata": {},
   "outputs": [],
   "source": []
  }
 ],
 "metadata": {
  "kernelspec": {
   "display_name": "Python 3",
   "language": "python",
   "name": "python3"
  },
  "language_info": {
   "codemirror_mode": {
    "name": "ipython",
    "version": 3
   },
   "file_extension": ".py",
   "mimetype": "text/x-python",
   "name": "python",
   "nbconvert_exporter": "python",
   "pygments_lexer": "ipython3",
   "version": "3.8.10"
  },
  "orig_nbformat": 4,
  "vscode": {
   "interpreter": {
    "hash": "916dbcbb3f70747c44a77c7bcd40155683ae19c65e1c03b4aa3499c5328201f1"
   }
  }
 },
 "nbformat": 4,
 "nbformat_minor": 2
}
