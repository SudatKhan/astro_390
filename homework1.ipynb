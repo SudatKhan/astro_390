{
 "cells": [
  {
   "cell_type": "code",
   "execution_count": 9,
   "metadata": {},
   "outputs": [],
   "source": [
    "import numpy as np\n",
    "import matplotlib.pyplot as plt"
   ]
  },
  {
   "cell_type": "code",
   "execution_count": 10,
   "metadata": {},
   "outputs": [
    {
     "name": "stdout",
     "output_type": "stream",
     "text": [
      "left = 0.999968746424007, right = 0.9999391380734948, center = 0.9999539422487509\n",
      "exact = 0.9999555871089498\n"
     ]
    }
   ],
   "source": [
    "#First derivative approximation\n",
    "x = np.linspace(0, np.pi, 1000, endpoint=False)\n",
    "f = np.sin(x)\n",
    "\n",
    "def left_diff(x, f, i):\n",
    "    return (f[i] - f[i-1]) / (x[i] - x[i-1])\n",
    "def right_diff(x,f,i):\n",
    "    return (f[i+1] - f[i]) / (x[i+1] - x[i])\n",
    "def centered_diff(x,f,i):\n",
    "    return (f[i+1] - f[i-1]) / (x[i+1] - x[i-1])\n",
    "\n",
    "value = 3\n",
    "\n",
    "dl = left_diff(x,f,value)\n",
    "dr = right_diff(x,f,value)\n",
    "dc = centered_diff(x,f,value)\n",
    "exact = np.cos(x[value])\n",
    "\n",
    "print(f\"left = {dl}, right = {dr}, center = {dc}\")\n",
    "print(f\"exact = {exact}\")"
   ]
  },
  {
   "attachments": {},
   "cell_type": "markdown",
   "metadata": {},
   "source": [
    "For a second-derivative approximation we can taylor expand the expression $f(x + h)$\n",
    "$$f(x \\pm h) = f(x) \\pm h\\frac{df}{dx}|_{i} + \\frac{h^2}{2}\\frac{d^2f}{dx^2}|_{i} \\pm \\mathcal{O}(h^3)$$\n",
    "Right Derivative Approximation:\n",
    "$$\\frac{d^2f}{dx^2}|{i} = \\frac{2f(x) - 5f(x + h) + 4f(x+2h) - f(x+3h)}{h^3} + \\mathcal{O}(h^2)$$\n",
    "Left Derivative Approximation:\n",
    "$$\\frac{d^2f}{dx^2}|_{i} = \\frac{2f(x) - 5f(x-h) + 4f(x-2h) - f(x-3h)}{h^3} + \\mathcal{O}(h^2)$$\n",
    "As such, we can find the difference between $f(i+1)$ and $f(i-1)$ terms to find centered second-order approximation of the second derivative of a function.\n",
    "$$\\frac{d^2f}{dx^2}|_{i} =\\frac{f(x+h) - 2f(x) + f(x-h)}{h^2} + \\mathcal{O}(h^2)$$"
   ]
  },
  {
   "cell_type": "code",
   "execution_count": 11,
   "metadata": {},
   "outputs": [
    {
     "name": "stdout",
     "output_type": "stream",
     "text": [
      "centered = -0.009424630681542716\n",
      "exact = -0.009424638433144006\n",
      "relative error = 8.224826177321296e-05%\n"
     ]
    }
   ],
   "source": [
    "#Second Derivative Approximation\n",
    "def centered_diff2(x,f,i):\n",
    "    return (f[i+1] - 2*f[i] + f[i-1]) / (((x[i+1] - x[i-1]) / 2)**2)\n",
    "\n",
    "dc2 = centered_diff2(x,f,value)\n",
    "exact2 = -1*np.sin(x[value])\n",
    "error = (abs(dc2 - exact2) / abs(exact2)) * 100\n",
    "\n",
    "print(f\"centered = {dc2}\")\n",
    "print(f\"exact = {exact2}\")\n",
    "print(f\"relative error = {error}%\")"
   ]
  },
  {
   "cell_type": "code",
   "execution_count": 58,
   "metadata": {},
   "outputs": [
    {
     "name": "stdout",
     "output_type": "stream",
     "text": [
      "0.01 : 0.3011616667047581\n",
      "0.005 : 0.3011669258789653\n",
      "0.0025 : 0.30116824067168446\n",
      "0.00125 : 0.3011685693332269\n",
      "0.000625 : 0.3011686513298586\n",
      "0.0003125 : 0.30116867349879195\n",
      "0.00015625 : 0.3011686769093971\n",
      "7.8125e-05 : 0.3011686860043441\n",
      "3.90625e-05 : 0.30116866781445006\n",
      "1.953125e-05 : 0.3011688860931785\n",
      "9.765625e-06 : 0.3011697592080922\n",
      "4.8828125e-06 : 0.3011662667484374\n",
      "2.44140625e-06 : 0.3011662667484374\n",
      "1.220703125e-06 : 0.3011662667484374\n",
      "6.103515625e-07 : 0.30131527836037586\n",
      "3.0517578125e-07 : 0.30012318546486805\n",
      "1.52587890625e-07 : 0.3036994641513915\n",
      "7.62939453125e-08 : 0.27985760624123523\n",
      "3.814697265625e-08 : 0.29893109256936023\n",
      "1.9073486328125e-08 : 0.37522503788186023\n"
     ]
    }
   ],
   "source": [
    "#Convergence Test\n",
    "def second_derivative(x0, f, h):\n",
    "    return (f(x0 + h) - 2*f(x0) + f(x0-h)) / ((h)**2)\n",
    "def func(x):\n",
    "    return np.sin(x)\n",
    "def functionp(x):\n",
    "    return (-1*np.cos(x))\n",
    "\n",
    "h = 0.01\n",
    "x0 = 1.0\n",
    "while h > 1.0e-8:\n",
    "    err = np.abs(second_derivative(x0, func, h) - functionp(x0))\n",
    "    print(f\"{h} : {err}\")\n",
    "    h /= 2"
   ]
  },
  {
   "attachments": {},
   "cell_type": "markdown",
   "metadata": {},
   "source": [
    "Consider the function\n",
    "$$f(x) = \\sqrt{x^2 + 1} - 1$$\n",
    "In the limit of $x \\rightarrow 0$, the expression is:\n",
    "$$f(x) \\approx \\frac{1}{2}x^2$$"
   ]
  },
  {
   "cell_type": "code",
   "execution_count": 55,
   "metadata": {},
   "outputs": [
    {
     "name": "stdout",
     "output_type": "stream",
     "text": [
      "3.9968028886505635e-15\n",
      "equal\n"
     ]
    }
   ],
   "source": [
    "a = 9.0e-8\n",
    "f= np.sqrt(a**2 + 1) - 1\n",
    "f2 = np.sqrt(a**2 + 1) + 1\n",
    "f2 = (f * f2) / (f2)\n",
    "print(f2)\n",
    "if abs(f2 - f) < 1e-8:\n",
    "    print('equal')"
   ]
  },
  {
   "cell_type": "code",
   "execution_count": 60,
   "metadata": {},
   "outputs": [
    {
     "name": "stdout",
     "output_type": "stream",
     "text": [
      "value at 1e-06 is 5.000444502911705e-13\n",
      "value at 1e-07 is 4.884981308350689e-15\n",
      "value at 1e-08 is 0.0\n",
      "value at 1e-06 is 5.000444502911705e-13\n",
      "value at 1e-07 is 4.884981308350689e-15\n",
      "value at 1e-08 is 0.0\n"
     ]
    }
   ],
   "source": [
    "b = np.array([1.e-6, 1.e-7, 1.e-8])\n",
    "def function(x):\n",
    "    return np.sqrt(x**2+1) - 1\n",
    "for i in b:\n",
    "    print(f\"value at {i} is {function(i)}\")\n",
    "\n",
    "def function2(x):\n",
    "    return ((np.sqrt(x**2 + 1) - 1) * (np.sqrt(x**2 + 1) + 1) ) / (np.sqrt(x**2 + 1) + 1)\n",
    "for j in b:\n",
    "    print(f\"value at {j} is {function2(j)}\")"
   ]
  }
 ],
 "metadata": {
  "kernelspec": {
   "display_name": "Python 3",
   "language": "python",
   "name": "python3"
  },
  "language_info": {
   "codemirror_mode": {
    "name": "ipython",
    "version": 3
   },
   "file_extension": ".py",
   "mimetype": "text/x-python",
   "name": "python",
   "nbconvert_exporter": "python",
   "pygments_lexer": "ipython3",
   "version": "3.8.10"
  },
  "orig_nbformat": 4,
  "vscode": {
   "interpreter": {
    "hash": "916dbcbb3f70747c44a77c7bcd40155683ae19c65e1c03b4aa3499c5328201f1"
   }
  }
 },
 "nbformat": 4,
 "nbformat_minor": 2
}
