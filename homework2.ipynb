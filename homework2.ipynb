{
 "cells": [
  {
   "cell_type": "code",
   "execution_count": 2,
   "metadata": {},
   "outputs": [],
   "source": [
    "import numpy as np\n",
    "from sympy import *"
   ]
  },
  {
   "cell_type": "code",
   "execution_count": 370,
   "metadata": {},
   "outputs": [
    {
     "data": {
      "text/plain": [
       "{a: (f_0 - 2*f_1 + f_2)/(2*\\Delta{}x**2),\n",
       " b: (-3*f_0 + 4*f_1 - f_2)/(2*\\Delta{}x),\n",
       " c: f_0}"
      ]
     },
     "execution_count": 370,
     "metadata": {},
     "output_type": "execute_result"
    }
   ],
   "source": [
    "a, b, c, x = symbols(\"a b c x\")\n",
    "deltax = symbols(\"\\Delta{}x\")\n",
    "f0, f1, f2 = symbols(\"f_0 f_1 f_2\")\n",
    "\n",
    "coefficients = solve([Eq(f0, c),\n",
    "                     Eq(f1, a * deltax**2 + b * deltax + c),\n",
    "                     Eq(f2, 4 * a * deltax**2 + 2 * b * deltax + c)],\n",
    "                     [a, b, c])\n",
    "coefficients"
   ]
  },
  {
   "cell_type": "code",
   "execution_count": 371,
   "metadata": {},
   "outputs": [
    {
     "data": {
      "text/latex": [
       "$\\displaystyle \\frac{\\Delta{}x \\left(- f_{0} + 8 f_{1} + 5 f_{2}\\right)}{12}$"
      ],
      "text/plain": [
       "\\Delta{}x*(-f_0 + 8*f_1 + 5*f_2)/12"
      ]
     },
     "execution_count": 371,
     "metadata": {},
     "output_type": "execute_result"
    }
   ],
   "source": [
    "x0 = symbols(\"x_0\")\n",
    "I = integrate(coefficients[a] * (x - x0)**2 + coefficients[b] * (x - x0) + coefficients[c],\n",
    "              [x, x0 + deltax, x0+2*deltax])\n",
    "simplify(I)"
   ]
  },
  {
   "attachments": {},
   "cell_type": "markdown",
   "metadata": {},
   "source": [
    "Thus the last odd interval,\n",
    "$$\\int_{x_{0} + \\Delta x}^{x_{0} + 2 \\Delta x} P(x) dx = \\frac{\\Delta x}{12}(-f_{0} + 8f_{1} + 5f_{2})$$\n",
    "The total even intervals can be approximated as:\n",
    "$$\\int_a^b f(x) dx \\approx \\frac{\\Delta x}{3} \\left[f(x_0)+4 \\left(\\sum_{i=1, i\\  {\\text{odd}}}^{n-1}f(x_i)\\right)+2 \\left(\\sum_{i=2, i\\  {\\text{even}}}^{n-2}f(x_i)\\right)+f(x_n)\\right]$$"
   ]
  },
  {
   "cell_type": "code",
   "execution_count": 375,
   "metadata": {},
   "outputs": [
    {
     "name": "stdout",
     "output_type": "stream",
     "text": [
      "The entered a value: 0; The entered b value: 5; The entered n value: 1099\n",
      "even intervals' answer: -0.7954498021723253\n",
      "odd interval's answer: -0.00032493829040347\n",
      "total integral value: -0.7957747404627288\n"
     ]
    }
   ],
   "source": [
    "a = int(input(\"Enter a value (must be an integer value): \"))\n",
    "b = int(input(\"Enter b value (must be an integer value): \"))\n",
    "n = int(input(\"Enter N value (must be an integer value): \"))\n",
    "x = np.array([])\n",
    "y =  np.array([])\n",
    "\n",
    "def f(x):\n",
    "    return x * np.sin(2 * np.pi *x)\n",
    "\n",
    "#The even interval section\n",
    "def even_simpsons(a,b,n,x,y,f):\n",
    "    even_bins = n - 1\n",
    "    h = (b - a) / n\n",
    "    b_new = b - h\n",
    "    h = (b_new - a) / even_bins\n",
    "    for i in range(1,even_bins):\n",
    "        step = a + i*h\n",
    "        x = np.append(x, step)\n",
    "    for j in range(len(x)):\n",
    "        temp = x[j]\n",
    "        y = np.append(y, f(temp))\n",
    "    s1 = sum(y[0::2])\n",
    "    s2 = sum(y[1:even_bins:2]) \n",
    "    return h/3 * (f(0) + 4*s1 + 2*s2 + f((b_new)))\n",
    "\n",
    "#the odd interval\n",
    "def odd_simpsons(a,b,n,x,y,f):\n",
    "    h = (b - a) / n\n",
    "    for i in range(n-2, n+1):\n",
    "        step = i*h\n",
    "        x = np.append(x,step)\n",
    "    for j in range(len(x)):\n",
    "        temp = x[j]\n",
    "        y = np.append(y, f(temp))\n",
    "    return h/12 * (-y[0] + 8*y[1] + 5*y[-1])\n",
    "\n",
    "I_even = even_simpsons(a,b,n,x,y,f)\n",
    "I_odd = odd_simpsons(a,b,n,x,y,f)\n",
    "I_total = I_even + I_odd\n",
    "\n",
    "print(f\"The entered a value: {a}; The entered b value: {b}; The entered n value: {n}\")\n",
    "print(f\"even intervals' answer: {I_even}\")\n",
    "print(f\"odd interval's answer: {I_odd}\")\n",
    "print(f\"total integral value: {I_total}\")"
   ]
  },
  {
   "cell_type": "code",
   "execution_count": 378,
   "metadata": {},
   "outputs": [
    {
     "name": "stdout",
     "output_type": "stream",
     "text": [
      "The exact value is: -0.7957747154594768\n",
      "The total integral at n: 3 is 1.8042195912175818\n",
      "relative error at n: 3 = 326.72492052927737%\n",
      "The total integral at n: 5 is -1.0205389992894608e-14\n",
      "relative error at n: 5 = 99.9999999999987%\n",
      "The total integral at n: 9 is -1.9834685684319586\n",
      "relative error at n: 9 = 149.2500113284842%\n",
      "The total integral at n: 17 is -0.7313788338083285\n",
      "relative error at n: 17 = 8.09222514866741%\n",
      "The total integral at n: 33 is -0.8130772681986935\n",
      "relative error at n: 33 = 2.1743029029549343%\n",
      "The total integral at n: 99 is -0.7961262997762738\n",
      "relative error at n: 99 = 0.044181388270679814%\n",
      "The total integral at n: 1003 is -0.7957747514857308\n",
      "relative error at n: 1003 = 4.527192607551864e-06%\n",
      "The total integral at n: 100005 is -0.7957747154594748\n",
      "relative error at n: 100005 = 2.511265318566215e-13%\n"
     ]
    }
   ],
   "source": [
    "exact = (-1.0* 5.0) / (2.0 * np.pi)\n",
    "print(f'The exact value is: {exact}')\n",
    "N = np.array([3, 5, 9, 17, 33, 99, 1003 , 100005])\n",
    "for i in range(len(N)):\n",
    "    I_even = even_simpsons(a,b,N[i],x,y,f)\n",
    "    I_odd = odd_simpsons(a,b,N[i],x,y,f)\n",
    "    I_total = I_even + I_odd\n",
    "    print(f\"The total integral at n: {N[i]} is {I_total}\")\n",
    "    error = (abs(I_total - exact) / abs(exact)) * 100\n",
    "    print(f\"relative error at n: {N[i]} = {error}%\")\n"
   ]
  },
  {
   "cell_type": "code",
   "execution_count": 3,
   "metadata": {},
   "outputs": [],
   "source": [
    "p, n, v, m, k, T, d, rho = symbols('p n v m k T d, rho', real='True', positive='True')"
   ]
  },
  {
   "attachments": {},
   "cell_type": "markdown",
   "metadata": {},
   "source": [
    "Average velocity of an ideal gas described by the Maxwell-Boltzmann distribution:\n",
    "$$\\langle v \\rangle = \\frac{1}{n_I} \\int_{0}^{\\infty} 4 \\pi n(p) p^2 (\\frac{p}{m_{I}}) \\,dp$$\n",
    "where,\n",
    "$$4 \\pi n(p) p^2 \\,dp = \\frac{4 \\pi p^2 n_{I}}{(2 \\pi m_{I} k_{B} T)^{3/2}} e^{-p^2 / (2 m_{I} k_{B} T)}\\,dp$$\n",
    "Thus,\n",
    "$$\\langle v \\rangle = \\frac{1}{n_I} \\int_{0}^{\\infty} \\frac{4 \\pi p^2 n_{I}}{(2 \\pi m_{I} k_{B} T)^{3/2}} e^{-p^2 / (2 m_{I} k_{B} T)}(\\frac{p}{m_{I}}) \\,dp$$"
   ]
  },
  {
   "cell_type": "code",
   "execution_count": 6,
   "metadata": {},
   "outputs": [
    {
     "data": {
      "text/latex": [
       "$\\displaystyle \\frac{2 \\sqrt{2} \\sqrt{T} \\sqrt{k}}{\\sqrt{\\pi} \\sqrt{m}}$"
      ],
      "text/plain": [
       "2*sqrt(2)*sqrt(T)*sqrt(k)/(sqrt(pi)*sqrt(m))"
      ]
     },
     "execution_count": 6,
     "metadata": {},
     "output_type": "execute_result"
    }
   ],
   "source": [
    "average1 = ((4 * pi * p**2 * n)/((2 * pi * m * k * T)**Rational(3,2))) * exp((-p**2)/(2 * k * T * m)) * (p / m)\n",
    "averagev = (average1/n)\n",
    "simplify(integrate(averagev,(p,0, oo)))"
   ]
  }
 ],
 "metadata": {
  "kernelspec": {
   "display_name": "Python 3",
   "language": "python",
   "name": "python3"
  },
  "language_info": {
   "codemirror_mode": {
    "name": "ipython",
    "version": 3
   },
   "file_extension": ".py",
   "mimetype": "text/x-python",
   "name": "python",
   "nbconvert_exporter": "python",
   "pygments_lexer": "ipython3",
   "version": "3.8.10"
  },
  "orig_nbformat": 4,
  "vscode": {
   "interpreter": {
    "hash": "916dbcbb3f70747c44a77c7bcd40155683ae19c65e1c03b4aa3499c5328201f1"
   }
  }
 },
 "nbformat": 4,
 "nbformat_minor": 2
}
