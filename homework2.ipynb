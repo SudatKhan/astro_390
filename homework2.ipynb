{
 "cells": [
  {
   "cell_type": "code",
   "execution_count": 26,
   "metadata": {},
   "outputs": [],
   "source": [
    "import numpy as np\n",
    "import matplotlib.pyplot as plt\n",
    "from sympy import *"
   ]
  },
  {
   "cell_type": "code",
   "execution_count": 370,
   "metadata": {},
   "outputs": [
    {
     "data": {
      "text/plain": [
       "{a: (f_0 - 2*f_1 + f_2)/(2*\\Delta{}x**2),\n",
       " b: (-3*f_0 + 4*f_1 - f_2)/(2*\\Delta{}x),\n",
       " c: f_0}"
      ]
     },
     "execution_count": 370,
     "metadata": {},
     "output_type": "execute_result"
    }
   ],
   "source": [
    "a, b, c, x = symbols(\"a b c x\")\n",
    "deltax = symbols(\"\\Delta{}x\")\n",
    "f0, f1, f2 = symbols(\"f_0 f_1 f_2\")\n",
    "\n",
    "coefficients = solve([Eq(f0, c),\n",
    "                     Eq(f1, a * deltax**2 + b * deltax + c),\n",
    "                     Eq(f2, 4 * a * deltax**2 + 2 * b * deltax + c)],\n",
    "                     [a, b, c])\n",
    "coefficients"
   ]
  },
  {
   "cell_type": "code",
   "execution_count": 371,
   "metadata": {},
   "outputs": [
    {
     "data": {
      "text/latex": [
       "$\\displaystyle \\frac{\\Delta{}x \\left(- f_{0} + 8 f_{1} + 5 f_{2}\\right)}{12}$"
      ],
      "text/plain": [
       "\\Delta{}x*(-f_0 + 8*f_1 + 5*f_2)/12"
      ]
     },
     "execution_count": 371,
     "metadata": {},
     "output_type": "execute_result"
    }
   ],
   "source": [
    "x0 = symbols(\"x_0\")\n",
    "I = integrate(coefficients[a] * (x - x0)**2 + coefficients[b] * (x - x0) + coefficients[c],\n",
    "              [x, x0 + deltax, x0+2*deltax])\n",
    "simplify(I)"
   ]
  },
  {
   "attachments": {},
   "cell_type": "markdown",
   "metadata": {},
   "source": [
    "Thus the last odd interval,\n",
    "$$\\int_{x_{0} + \\Delta x}^{x_{0} + 2 \\Delta x} P(x) dx = \\frac{\\Delta x}{12}(-f_{0} + 8f_{1} + 5f_{2})$$\n",
    "The total even intervals can be approximated as:\n",
    "$$\\int_a^b f(x) dx \\approx \\frac{\\Delta x}{3} \\left[f(x_0)+4 \\left(\\sum_{i=1, i\\  {\\text{odd}}}^{n-1}f(x_i)\\right)+2 \\left(\\sum_{i=2, i\\  {\\text{even}}}^{n-2}f(x_i)\\right)+f(x_n)\\right]$$"
   ]
  },
  {
   "cell_type": "code",
   "execution_count": 10,
   "metadata": {},
   "outputs": [
    {
     "name": "stdout",
     "output_type": "stream",
     "text": [
      "The entered a value: 0; The entered b value: 5; The entered n value: 99\n",
      "even intervals' answer: -0.7563509893680431\n",
      "odd interval's answer: -0.039775310408230645\n",
      "total integral value: -0.7961262997762738\n"
     ]
    }
   ],
   "source": [
    "a = int(input(\"Enter a value (must be an integer value): \"))\n",
    "b = int(input(\"Enter b value (must be an integer value): \"))\n",
    "n = int(input(\"Enter N value (must be an integer value): \"))\n",
    "x = np.array([])\n",
    "y =  np.array([])\n",
    "\n",
    "''' Given N odd intervals'''\n",
    "def f(x):\n",
    "    return x * np.sin(2 * np.pi *x)\n",
    "\n",
    "#The even interval section\n",
    "def even_simpsons(a,b,n,x,y,f):\n",
    "    even_bins = n - 1\n",
    "    h = (b - a) / n\n",
    "    b_new = b - h\n",
    "    h = (b_new - a) / even_bins\n",
    "    for i in range(1,even_bins):\n",
    "        step = a + i*h\n",
    "        x = np.append(x, step)\n",
    "    for j in range(len(x)):\n",
    "        temp = x[j]\n",
    "        y = np.append(y, f(temp))\n",
    "    s1 = sum(y[0::2])\n",
    "    s2 = sum(y[1:even_bins:2]) \n",
    "    return h/3 * (f(0) + 4*s1 + 2*s2 + f((b_new)))\n",
    "\n",
    "#the odd interval\n",
    "def odd_simpsons(a,b,n,x,y,f):\n",
    "    h = (b - a) / n\n",
    "    for i in range(n-2, n+1):\n",
    "        step = i*h\n",
    "        x = np.append(x,step)\n",
    "    for j in range(len(x)):\n",
    "        temp = x[j]\n",
    "        y = np.append(y, f(temp))\n",
    "    return h/12 * (-y[0] + 8*y[1] + 5*y[-1])\n",
    "\n",
    "I_even = even_simpsons(a,b,n,x,y,f)\n",
    "I_odd = odd_simpsons(a,b,n,x,y,f)\n",
    "I_total = I_even + I_odd\n",
    "\n",
    "print(f\"The entered a value: {a}; The entered b value: {b}; The entered n value: {n}\")\n",
    "print(f\"even intervals' answer: {I_even}\")\n",
    "print(f\"odd interval's answer: {I_odd}\")\n",
    "print(f\"total integral value: {I_total}\")"
   ]
  },
  {
   "cell_type": "code",
   "execution_count": 378,
   "metadata": {},
   "outputs": [
    {
     "name": "stdout",
     "output_type": "stream",
     "text": [
      "The exact value is: -0.7957747154594768\n",
      "The total integral at n: 3 is 1.8042195912175818\n",
      "relative error at n: 3 = 326.72492052927737%\n",
      "The total integral at n: 5 is -1.0205389992894608e-14\n",
      "relative error at n: 5 = 99.9999999999987%\n",
      "The total integral at n: 9 is -1.9834685684319586\n",
      "relative error at n: 9 = 149.2500113284842%\n",
      "The total integral at n: 17 is -0.7313788338083285\n",
      "relative error at n: 17 = 8.09222514866741%\n",
      "The total integral at n: 33 is -0.8130772681986935\n",
      "relative error at n: 33 = 2.1743029029549343%\n",
      "The total integral at n: 99 is -0.7961262997762738\n",
      "relative error at n: 99 = 0.044181388270679814%\n",
      "The total integral at n: 1003 is -0.7957747514857308\n",
      "relative error at n: 1003 = 4.527192607551864e-06%\n",
      "The total integral at n: 100005 is -0.7957747154594748\n",
      "relative error at n: 100005 = 2.511265318566215e-13%\n"
     ]
    }
   ],
   "source": [
    "exact = (-1.0* 5.0) / (2.0 * np.pi)\n",
    "print(f'The exact value is: {exact}')\n",
    "N = np.array([3, 5, 9, 17, 33, 99, 1003 , 100005])\n",
    "for i in range(len(N)):\n",
    "    I_even = even_simpsons(a,b,N[i],x,y,f)\n",
    "    I_odd = odd_simpsons(a,b,N[i],x,y,f)\n",
    "    I_total = I_even + I_odd\n",
    "    print(f\"The total integral at n: {N[i]} is {I_total}\")\n",
    "    error = (abs(I_total - exact) / abs(exact)) * 100\n",
    "    print(f\"relative error at n: {N[i]} = {error}%\")\n"
   ]
  },
  {
   "cell_type": "code",
   "execution_count": 15,
   "metadata": {},
   "outputs": [],
   "source": [
    "p, x, n, v, m, k, T = symbols('p x n v m k T', real='True', positive='True')"
   ]
  },
  {
   "attachments": {},
   "cell_type": "markdown",
   "metadata": {},
   "source": [
    "Average velocity of an ideal gas described by the Maxwell-Boltzmann distribution:\n",
    "$$\\langle v \\rangle = \\frac{1}{n_I} \\int_{0}^{\\infty} 4 \\pi n(p) p^2 (\\frac{p}{m_{I}}) \\,dp$$\n",
    "where,\n",
    "$$4 \\pi n(p) p^2 \\,dp = \\frac{4 \\pi p^2 n_{I}}{(2 \\pi m_{I} k_{B} T)^{3/2}} e^{-p^2 / (2 m_{I} k_{B} T)}\\,dp$$\n",
    "Thus,\n",
    "$$\\langle v \\rangle = \\frac{1}{n_I} \\int_{0}^{\\infty} \\frac{4 \\pi p^2 n_{I}}{(2 \\pi m_{I} k_{B} T)^{3/2}} e^{-p^2 / (2 m_{I} k_{B} T)}(\\frac{p}{m_{I}}) \\,dp$$"
   ]
  },
  {
   "cell_type": "code",
   "execution_count": 8,
   "metadata": {},
   "outputs": [
    {
     "data": {
      "text/latex": [
       "$\\displaystyle \\frac{2 \\sqrt{2} \\sqrt{T} \\sqrt{k}}{\\sqrt{\\pi} \\sqrt{m}}$"
      ],
      "text/plain": [
       "2*sqrt(2)*sqrt(T)*sqrt(k)/(sqrt(pi)*sqrt(m))"
      ]
     },
     "execution_count": 8,
     "metadata": {},
     "output_type": "execute_result"
    }
   ],
   "source": [
    "average1 = ((4 * pi * p**2 * n)/((2 * pi * m * k * T)**Rational(3,2))) * exp((-p**2)/(2 * k * T * m)) * (p / m)\n",
    "averagev = (average1/n)\n",
    "simplify(integrate(averagev,(p,0, oo)))"
   ]
  },
  {
   "cell_type": "code",
   "execution_count": 14,
   "metadata": {},
   "outputs": [
    {
     "data": {
      "text/latex": [
       "$\\displaystyle \\frac{\\sqrt{2}}{2 \\sqrt{T} \\sqrt{k} \\sqrt{m}}$"
      ],
      "text/plain": [
       "sqrt(2)/(2*sqrt(T)*sqrt(k)*sqrt(m))"
      ]
     },
     "execution_count": 14,
     "metadata": {},
     "output_type": "execute_result"
    }
   ],
   "source": [
    "x = p / sqrt((2 * m * k * T))\n",
    "simplify(diff(x,p))"
   ]
  },
  {
   "attachments": {},
   "cell_type": "markdown",
   "metadata": {},
   "source": [
    "We can define the dimensional quantity $x$ as:\n",
    "$$x = \\frac{p}{(2 m_{I} k_{B} T)^{1/2}} \\rightarrow dx = \\frac{\\sqrt{2}}{2 \\sqrt{m k_{B} T}}$$\n",
    "As such, the average velocity can be re-written as:\n",
    "$$\\langle v \\rangle = C_{1} \\int_{0}^{\\infty} x^{3} e^{-x^2} \\,dx;\\,\\, C_{1} = 4 \\sqrt{\\frac{2 k_{B} T}{\\pi m}}$$\n"
   ]
  },
  {
   "cell_type": "code",
   "execution_count": 25,
   "metadata": {},
   "outputs": [
    {
     "data": {
      "text/latex": [
       "$\\displaystyle \\frac{1}{2}$"
      ],
      "text/plain": [
       "1/2"
      ]
     },
     "execution_count": 25,
     "metadata": {},
     "output_type": "execute_result"
    }
   ],
   "source": [
    "new_average1 = x**3 * exp(-x**2)\n",
    "#C_1 = 4 * (sqrt((2 * k* T )/ (pi * m)))\n",
    "#total_average = C_1 * new_average1\n",
    "partial_answer = integrate(new_average1, (x,0,oo))\n",
    "#answer = integrate(total_average, (x, 0, oo))\n",
    "simplify(partial_answer)\n",
    "#simplify(answer)"
   ]
  },
  {
   "cell_type": "code",
   "execution_count": 30,
   "metadata": {},
   "outputs": [
    {
     "data": {
      "text/plain": [
       "[<matplotlib.lines.Line2D at 0x7f0f2d03bcd0>]"
      ]
     },
     "execution_count": 30,
     "metadata": {},
     "output_type": "execute_result"
    },
    {
     "data": {
      "image/png": "[encoded data removed]",
      "text/plain": [
       "<Figure size 432x288 with 1 Axes>"
      ]
     },
     "metadata": {
      "needs_background": "light"
     },
     "output_type": "display_data"
    }
   ],
   "source": [
    "def f(x):\n",
    "    return np.where(x == 0, 0 , x**3 * np.exp(-x**2))\n",
    "x= np.linspace(0,3.75,1000)\n",
    "\n",
    "fig = plt.figure()\n",
    "plt.plot(x, f(x))"
   ]
  },
  {
   "attachments": {},
   "cell_type": "markdown",
   "metadata": {},
   "source": [
    "Now using an transformation we define another parameter, $z$:\n",
    "$$z = \\frac{x}{c + x} \\rightarrow x = c \\frac{z}{1-z}$$"
   ]
  },
  {
   "cell_type": "code",
   "execution_count": 53,
   "metadata": {},
   "outputs": [
    {
     "name": "stdout",
     "output_type": "stream",
     "text": [
      "0.5000000521080519\n"
     ]
    }
   ],
   "source": [
    "small = 1.e-30\n",
    "N = int(input('Enter number of intervals: '))\n",
    "\n",
    "def z_trans(x, c):\n",
    "    return x/(c + x) \n",
    "def x_trans(z, c):\n",
    "    return c*z/(1.0 - z + small)\n",
    "\n",
    "def I_t(func, N, c=5):\n",
    "    z = np.linspace(0.0, 1.0, N+1, endpoint=True)\n",
    "    I = 0.0\n",
    "    for n in range(N):\n",
    "        I = I + (0.5 * (z[n+1] - z[n]) * (func(x_trans(z[n], c)) / (1.0 - z[n] + small)**2 + func(x_trans(z[n+1], c)) / (1.0 - z[n+1] + small)**2))\n",
    "    I = I * c\n",
    "    return I\n",
    "\n",
    "integrand = I_t(f, N, c = 5)\n",
    "print(f\"the integrand is: {integrand}\")"
   ]
  },
  {
   "cell_type": "code",
   "execution_count": 60,
   "metadata": {},
   "outputs": [
    {
     "name": "stdout",
     "output_type": "stream",
     "text": [
      "estimated solution: 56181979.8389049\n",
      "this is the exact value: 56181973.983838476\n"
     ]
    }
   ],
   "source": [
    "k_B = 1.38e-16\n",
    "m_p = 1.67e-24\n",
    "T_k = 1.5e7\n",
    "C_1 = 4 * (np.sqrt((2 * k_B * T_k )/ (np.pi * m_p)))\n",
    "print(f\"estimated solution: {C_1 * integrand}\")\n",
    "\n",
    "exact = 2 * np.sqrt((2 * k_B * T_k) / (np.pi * m_p))\n",
    "print(f\"this is the exact value: {exact}\")"
   ]
  }
 ],
 "metadata": {
  "kernelspec": {
   "display_name": "Python 3",
   "language": "python",
   "name": "python3"
  },
  "language_info": {
   "codemirror_mode": {
    "name": "ipython",
    "version": 3
   },
   "file_extension": ".py",
   "mimetype": "text/x-python",
   "name": "python",
   "nbconvert_exporter": "python",
   "pygments_lexer": "ipython3",
   "version": "3.8.10"
  },
  "orig_nbformat": 4,
  "vscode": {
   "interpreter": {
    "hash": "916dbcbb3f70747c44a77c7bcd40155683ae19c65e1c03b4aa3499c5328201f1"
   }
  }
 },
 "nbformat": 4,
 "nbformat_minor": 2
}
